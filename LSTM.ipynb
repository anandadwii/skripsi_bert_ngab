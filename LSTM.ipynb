{
 "cells": [
  {
   "cell_type": "code",
   "execution_count": 2,
   "metadata": {
    "collapsed": true,
    "pycharm": {
     "name": "#%%\n"
    }
   },
   "outputs": [],
   "source": [
    "import os\n",
    "\n",
    "import numpy as np\n",
    "import pandas as pd\n",
    "import matplotlib.pyplot as plt\n",
    "from nltk.tokenize import RegexpTokenizer"
   ]
  },
  {
   "cell_type": "code",
   "execution_count": 3,
   "outputs": [],
   "source": [
    "np.random.seed(20)\n",
    "\n",
    "\n",
    "tweets_data = pd.read_csv('dataset_final_vader.csv', delimiter=';')\n",
    "new_tweets_data = pd.read_csv('fix_with_slang.csv', delimiter=';')\n"
   ],
   "metadata": {
    "collapsed": false,
    "pycharm": {
     "name": "#%%\n"
    }
   }
  },
  {
   "cell_type": "code",
   "execution_count": 4,
   "outputs": [
    {
     "name": "stdout",
     "output_type": "stream",
     "text": [
      "2665    1\n",
      "2600    1\n",
      "2356    1\n",
      "Name: label_vader, dtype: int64\n"
     ]
    },
    {
     "data": {
      "text/plain": "<Figure size 640x480 with 1 Axes>",
      "image/png": "[encoded data removed]"
     },
     "metadata": {},
     "output_type": "display_data"
    }
   ],
   "source": [
    "tweets = tweets_data['origin_text_id']\n",
    "labels = tweets_data['label_vader']\n",
    "\n",
    "labels_count = labels.value_counts()\n",
    "labels_count.plot(kind='bar')\n",
    "print(labels_count.value_counts())"
   ],
   "metadata": {
    "collapsed": false,
    "pycharm": {
     "name": "#%%\n"
    }
   }
  },
  {
   "cell_type": "code",
   "execution_count": 7,
   "outputs": [
    {
     "name": "stdout",
     "output_type": "stream",
     "text": [
      "['etle', 'etle', 'tp', 'msh', 'manual', 'ngambil', 'fotonya', 'emang', 'tuolol', 'ada', 'cctv', 'napa', 'g', 'di', 'manfaatkan', 'oiya', 'lupa', 'nanti', 'bisa', 'di', 'edit', 'yak']\n"
     ]
    }
   ],
   "source": [
    "split_bucket =[]\n",
    "tkr = RegexpTokenizer('[a-zA-Z@]+')\n",
    "for i, line in enumerate(tweets):\n",
    "    tweet = line.split()\n",
    "    tweet = tkr.tokenize(str(tweet))\n",
    "    split_bucket.append(tweet)\n",
    "\n",
    "print(split_bucket[-1])"
   ],
   "metadata": {
    "collapsed": false,
    "pycharm": {
     "name": "#%%\n"
    }
   }
  },
  {
   "cell_type": "code",
   "execution_count": 8,
   "outputs": [
    {
     "data": {
      "text/plain": "['etle',\n 'etle',\n 'tp',\n 'msh',\n 'manual',\n 'ngambil',\n 'foto',\n 'emang',\n 'tuolol',\n 'ada',\n 'cctv',\n 'napa',\n 'g',\n 'di',\n 'manfaat',\n 'oiya',\n 'lupa',\n 'nanti',\n 'bisa',\n 'di',\n 'edit',\n 'yak']"
     },
     "execution_count": 8,
     "metadata": {},
     "output_type": "execute_result"
    }
   ],
   "source": [
    "split_bucket[-1]"
   ],
   "metadata": {
    "collapsed": false,
    "pycharm": {
     "name": "#%%\n"
    }
   }
  },
  {
   "cell_type": "code",
   "execution_count": 8,
   "outputs": [
    {
     "data": {
      "text/plain": "  0%|          | 0/7621 [00:00<?, ?it/s]",
      "application/vnd.jupyter.widget-view+json": {
       "version_major": 2,
       "version_minor": 0,
       "model_id": "67f6fcee21e64e52ac3f323221c8f167"
      }
     },
     "metadata": {},
     "output_type": "display_data"
    },
    {
     "data": {
      "text/plain": "[['kembangkan',\n  'etle',\n  ',',\n  '7',\n  'polda',\n  'dapat',\n  'penghargaan',\n  'di',\n  'rakernis',\n  'fungsi',\n  'gakkum'],\n ['sosialisasi', 'etle', 'dan', 'app', 'smart', 'city'],\n ['berita',\n  'populer',\n  'kumparanoto',\n  ',',\n  'selasa',\n  '1312',\n  'detail',\n  'vespa',\n  'batik',\n  'seharga',\n  'rp',\n  '77',\n  'juta',\n  ',',\n  'cara',\n  'kerja',\n  'dan',\n  'jenis',\n  'pelanggaran',\n  'tilang',\n  'etle',\n  'mobile',\n  '.'],\n ['mimin',\n  'kasih',\n  'info',\n  'ya',\n  'gaes',\n  ',',\n  'kita',\n  'mau',\n  'uji',\n  'coba',\n  'etle',\n  'di',\n  'wilayah',\n  'tangerang',\n  'kota',\n  'nih',\n  '.',\n  'yukss',\n  'patuhi',\n  'peraturan',\n  'lalu',\n  'lintas',\n  ',',\n  'biar',\n  'ngga',\n  'dapet',\n  'surat',\n  'cinta',\n  'dari',\n  'mimin'],\n ['personil',\n  'lalu',\n  'lintas',\n  'polres',\n  'badung',\n  'melaksanakan',\n  'teguran',\n  'secara',\n  'humanis',\n  'kepada',\n  'masyarakat',\n  'yang',\n  'tidak',\n  'mempergunakan',\n  'helm',\n  '.',\n  '.']]"
     },
     "execution_count": 8,
     "metadata": {},
     "output_type": "execute_result"
    }
   ],
   "source": [
    "from nltk.tokenize import word_tokenize\n",
    "from gensim.models import Word2Vec\n",
    "from tqdm.auto import tqdm\n",
    "\n",
    "sentences = [word_tokenize(x) for x in tqdm(tweets)]\n",
    "sentences[:5]\n",
    "\n"
   ],
   "metadata": {
    "collapsed": false,
    "pycharm": {
     "name": "#%%\n"
    }
   }
  },
  {
   "cell_type": "code",
   "execution_count": 9,
   "outputs": [],
   "source": [
    "import os\n",
    "model =Word2Vec(sentences=sentences, vector_size=128, window=5, min_count=3, workers=4, epochs=1000, sg=0, hs=0 )\n",
    "os.makedirs(\"model/w2v/\", exist_ok=True)\n",
    "model.save(\"model/w2v/etle_dataset_origin_text.model\")\n"
   ],
   "metadata": {
    "collapsed": false,
    "pycharm": {
     "name": "#%%\n"
    }
   }
  },
  {
   "cell_type": "code",
   "execution_count": 18,
   "outputs": [],
   "source": [
    "load = Word2Vec.load(\"model/w2v/etle_dataset_origin_text.model\")"
   ],
   "metadata": {
    "collapsed": false,
    "pycharm": {
     "name": "#%%\n"
    }
   }
  },
  {
   "cell_type": "code",
   "execution_count": 13,
   "outputs": [],
   "source": [
    "w2v = load.wv"
   ],
   "metadata": {
    "collapsed": false,
    "pycharm": {
     "name": "#%%\n"
    }
   }
  },
  {
   "cell_type": "code",
   "execution_count": 15,
   "outputs": [
    {
     "data": {
      "text/plain": "['.',\n ',',\n 'etle',\n 'tilang',\n 'di',\n 'elektronik',\n 'dan',\n 'yang',\n 'kamera',\n 'etilang',\n 'lintas',\n 'polda',\n 'ini',\n 'lalu',\n 'ada',\n 'manual',\n 'mobile',\n 'pelanggaran',\n 'untuk',\n 'polres',\n 'polisi',\n 'sosialisasi',\n 'dengan',\n 'bisa',\n 'kena',\n 'yg',\n 'akan',\n 'lantas',\n '2022',\n 'polri',\n 'pelanggar',\n 'masyarakat',\n 'tidak',\n 'kendaraan',\n 'atau',\n 'kota',\n 'kapolri',\n 'jalan',\n 'pengendara',\n 'metro',\n 'pungli',\n 'ke',\n 'mulai',\n 'traffic',\n 'ya',\n 'law',\n 'itu',\n 'ga',\n 'enforcement',\n 'satlantas',\n 'sistem',\n 'aplikasi',\n 'hari',\n 'sudah',\n 'kepada',\n 'cara',\n 'jaya',\n 'menggunakan',\n 'surat',\n 'penindakan',\n 'electronic',\n 'ditlantas',\n 'giat',\n 'pada',\n 'dari',\n 'secara',\n 'dalam',\n 'juga',\n 'plat',\n 'lagi',\n 'mobil',\n 'zebra',\n 'operasi',\n 'aja',\n 'gak',\n 'online',\n 'tak',\n 'kalo',\n 'melalui',\n 'tapi',\n 'hukum',\n 'cctv',\n 'nomor',\n 'tercapture',\n 'korlantas',\n 'banyak',\n 'sim',\n 'pak',\n 'melaksanakan',\n 'oleh',\n 'melakukan',\n 'smart',\n 'lebih',\n '1',\n 'penerapan',\n 'stnk',\n 'city',\n 'pakai',\n 'masih',\n 'bakal',\n 'banyuasin',\n 'saat',\n 'pake',\n 'tertib',\n 'informasi',\n 'jadi',\n 'data',\n 'helm',\n 'berlaku',\n 'dulur',\n 'kito',\n 'polresta',\n 'apa',\n 'karena',\n 'terkait',\n 'bayar',\n 'belum',\n 'lewat',\n 'baru',\n 'jakarta',\n 'motor',\n 'buat',\n 'saya',\n 'mau',\n 'kalau',\n 'desember',\n 'nya',\n 'bali',\n 'selama',\n 'kebijakan',\n 'berlalu',\n 'melanggar',\n '3',\n 'kan',\n '2',\n 'statis',\n 'terapkan',\n 'udah',\n 'pelat',\n 'tol',\n 'stop',\n 'polantas',\n 'denda',\n 'sat',\n 'sama',\n 'langsung',\n 'wilayah',\n 'bandung',\n 'titik',\n 'baik',\n 'biar',\n 'sih',\n 'diberlakukan',\n 'cek',\n 'terhadap',\n 'no',\n 'pelayanan',\n 'begini',\n 'konfirmasi',\n 'polsek',\n 'hanya',\n '4',\n 'diterapkan',\n 'warga',\n 'harus',\n 'prabumulih',\n 'gar',\n 'aturan',\n 'sekarang',\n 'lampu',\n 'coba',\n 'presisi',\n 'personil',\n 'dapat',\n 'nih',\n 'siap',\n 'kita',\n '5',\n 'agar',\n 'via',\n 'menerapkan',\n 'petugas',\n 'jangan',\n 'salah',\n 'jenis',\n 'riau',\n 'jumlah',\n 'jam',\n 'semua',\n 'telah',\n 'depan',\n 'penegakan',\n 'selatan',\n 'punya',\n 'kepolisian',\n 'listyo',\n 'foto',\n 'terekam',\n 'aku',\n 'oktober',\n 'orang',\n 'saja',\n 'rtmc',\n 'dilakukan',\n 'pemasangan',\n '10',\n 'tahun',\n 'sigit',\n 'app',\n 'mengenai',\n 'dilarang',\n 'berikut',\n 'memaksimalkan',\n 'pol',\n '6',\n 'klo',\n 'bukan',\n 'penggunaan',\n 'terus',\n 'jalur',\n 'sumsel',\n 'para',\n 'jenderal',\n 'sobat',\n 'tentang',\n 'resmi',\n 'pekanbaru',\n 'e',\n 'patroli',\n 'hingga',\n 'tanpa',\n 'hp',\n 'oku',\n 'ditilang',\n 'ditempat',\n 'adanya',\n 'daerah',\n 'berkendara',\n '1x24',\n '11',\n 'pengurusan',\n 'simak',\n 'kegiatan',\n 'dakgar',\n 'berlakukan',\n 'uji',\n 'lalin',\n 'memberikan',\n 'pengaduan',\n 'teguran',\n 'prabowo',\n 'semoga',\n 'tetap',\n 'indonesia',\n 'si',\n 'merah',\n 'lalulintas',\n 'arus',\n 'bersama',\n 'banget',\n 'dgn',\n 'tilangelektronik',\n 'drone',\n 's',\n 'anggota',\n 'to',\n 'makin',\n 'november',\n 'lakukan',\n 'terpasang',\n 'maksimalkan',\n 'super',\n 'raya',\n 'pemberlakuan',\n 'selasa',\n 'skck',\n 'bengkulu',\n 'pos',\n 'tau',\n 'kerja',\n 'seluruh',\n '2023',\n 'balada',\n 'yuk',\n 'perlu',\n 'bukti',\n 'handheld',\n 'pasang',\n 'g20',\n 'kasat',\n 'kapolda',\n 'beberapa',\n 'pas',\n 'ne',\n 'pernah',\n 'info',\n 'dr',\n 'dirlantas',\n 'jika',\n 'bhabinkamtibmas',\n 'cuma',\n 'unit',\n 'hindari',\n 'udh',\n 'menghindari',\n 'agung',\n 'jaga',\n 'banten',\n 'empat',\n 'acara',\n 'malah',\n 'sanksi',\n 'kini',\n 'setelah',\n 'listrik',\n 'jateng',\n '14',\n 'sinergi',\n 'hal',\n 'sejumlah',\n 'gimana',\n 'k',\n 'kondusifitas',\n 'sampai',\n 'pengamanan',\n 'jawa',\n 'arahan',\n 'j',\n 'tersebut',\n 'dulu',\n 'h',\n 'timur',\n 'candi',\n 'penilangan',\n 'tp',\n 'pataka',\n 'menilang',\n 'tengah',\n 'program',\n 'polrestabes',\n 'rawan',\n 'tanggal',\n 'sebagai',\n 'peraturan',\n 'dipasang',\n 'segera',\n 'bagi',\n 'berlalulintas',\n 'sejak',\n 'teknologi',\n '8',\n 'ma',\n 'kabupaten',\n 'gitu',\n 'patuhi',\n 'daftar',\n 'terjaring',\n 'tahu',\n 'terjadi',\n 'kantor',\n 'efektif',\n 'rabu',\n 'soal',\n 'berbasis',\n 'sesuai',\n 'diganti',\n 'jajaran',\n 'takut',\n 'bikin',\n 'ditindak',\n 'emang',\n 'selalu',\n 'tuh',\n 'lokasi',\n 'm',\n 'pemantauan',\n 'aceh',\n 'lawang',\n 'jalanan',\n 'instruksi',\n 'apakah',\n 'gw',\n 'tangerang',\n 'tertangkap',\n 'presidensi',\n 'kami',\n 'demi',\n 'penjagaan',\n 'kombes',\n 'i',\n 'padang',\n 'apresiasi',\n 'sangat',\n 'humanis',\n 'menindak',\n 'negara',\n '00',\n 'dki',\n 'kampanye',\n 'seperti',\n 'pelaksanaan',\n 'keselamatan',\n 'menjadi',\n 'gunakan',\n 'ternyata',\n 'dukung',\n 'oknum',\n 'malam',\n 'selengkapnya',\n 'nanti',\n 'tindak',\n 'kok',\n 'minta',\n 'copot',\n 'kecelakaan',\n 'mana',\n 'pajak',\n 'bagaimana',\n 'ribuan',\n 'a',\n 'memang',\n 'pagi',\n 'penipuan',\n 'mendownload',\n 'sbb',\n 'kanit',\n 'catat',\n 'dia',\n 'mekanisme',\n 'padahal',\n 'palsu',\n 'mengurangi',\n 'jd',\n 'larang',\n 'pemotor',\n 'incar',\n 'rangka',\n 'anda',\n 'dua',\n 'utk',\n 'tambah',\n 'boleh',\n 'edukasi',\n 'sosialisasikan',\n 'sering',\n 'mendapatkan',\n 'waspada',\n 'baca',\n 'kamis',\n 'mudah',\n 'ruas',\n 'rumah',\n 'mereka',\n 'putih',\n 'bagus',\n 'satu',\n 'ii',\n 'razia',\n 'lain',\n 'setuju',\n 'mah',\n 'menindaklanjuti',\n 'ruangan',\n 'kompolnas',\n 'senin',\n 'memberlakukan',\n 'mewujudkan',\n 'pengguna',\n 'maupun',\n 'pasti',\n 'tangsel',\n 'bogor',\n 'nah',\n 'langkah',\n '22',\n 'beserta',\n 'besar',\n 'sebanyak',\n 'tinggal',\n 'ni',\n 'gk',\n 'gini',\n 'surabaya',\n 'lah',\n 'wajah',\n 'mungkin',\n 'bgt',\n 'na',\n 'd',\n 'jg',\n 'menghimbau',\n 'serta',\n 'nopol',\n 'alamat',\n 'tdk',\n 'merupakan',\n 'kab',\n 'mari',\n 'akp',\n 'pengemudi',\n 'sukoharjo',\n 'kasus',\n 'soalnya',\n 'masuk',\n 'tiap',\n 'namun',\n 'ops',\n 'pulau',\n 'beroperasi',\n 'aipda',\n 'kecepatan',\n 'bener',\n 'store',\n 'play',\n 'camera',\n 'manis',\n 'sp2hp',\n 'ayo',\n 'dong',\n 'kenapa',\n 'balik',\n 'wna',\n 'sasaran',\n 'selain',\n 'disiplin',\n 'krn',\n 'awas',\n '7',\n 'gua',\n 'talam',\n 'siapsiap',\n 'launching',\n 'aman',\n 'semakin',\n 'membuat',\n 'terkena',\n 'kasih',\n 'larangan',\n 'video',\n 'kamu',\n 'modus',\n 'dah',\n 'mendukung',\n 'atas',\n 'ganti',\n 'ribu',\n 'setiap',\n 'parkir',\n 'deteksi',\n 'jelas',\n 'minggu',\n 'katanya',\n '13',\n 'ponsel',\n 'che',\n 'diluncurkan',\n 'min',\n 'adalah',\n 'lubuklinggau',\n 'canggih',\n 'berjalan',\n 'blokir',\n 'berita',\n 'radio',\n 'besok',\n 'pemilik',\n 'rambu',\n 'ratusan',\n 'sidang',\n 'lepas',\n 'siapkan',\n 'cirebon',\n 'nama',\n 'dapet',\n 'gue',\n 'kamsel',\n 'lahat',\n 'jabar',\n 'sambut',\n 'waktu',\n 'halo',\n 'sabtu',\n 'dapatkan',\n 'jumat',\n 'ciptakan',\n 'biasa',\n 'sumatera',\n 'diblokir',\n 'paling',\n 'skrg',\n 'hibah',\n 'dikirim',\n 'simpang',\n 'download',\n 'langgar',\n 'lapangan',\n 'kunto',\n 'meski',\n 'dilaksanakan',\n 'direktorat',\n 'memiliki',\n 'hatihati',\n 'sdh',\n 'pertama',\n 'kata',\n 'kak',\n 'kembali',\n 'deh',\n 'selamat',\n 'wkwk',\n 'liat',\n 'nilang',\n 'g',\n 'gelar',\n 'lampung',\n 'kapolres',\n 'meningkat',\n 'merasa',\n 'gakkum',\n 'mengedepankan',\n 'raja',\n 'tinggi',\n 'kepri',\n 'guna',\n 'tilangnya',\n 'ambon',\n 'khusus',\n 'suara',\n 'kedepankan',\n 'peran',\n 'per',\n 'batam',\n 'mengikuti',\n 'kayak',\n 'jl',\n 'recognition',\n 'dihapus',\n 'penjelasan',\n 'humas',\n 'samsat',\n 'harusnya',\n 'berarti',\n 'yaa',\n 'face',\n 'bawa',\n 'sepeda',\n 'batas',\n 'trus',\n 'mendeteksi',\n 'probolinggo',\n 'lainnya',\n 'fitur',\n '1312',\n 'tempat',\n 'sampe',\n 'pun',\n 'tiga',\n 'liar',\n 'proses',\n 'himbauan',\n 'perintah',\n 'sini',\n 'terobosan',\n 'mencegah',\n 'mencatat',\n 'bulan',\n 'sendiri',\n 'ditiadakan',\n 'dg',\n 'perangkat',\n 'blm',\n 'meluncurkan',\n 'muara',\n 'terima',\n 'kejaksaan',\n 'jatim',\n 'laka',\n 'bilang',\n 'tetep',\n 'bs',\n 'pihak',\n 'nakal',\n 'difoto',\n 'suka',\n 'lg',\n 'km',\n 'b',\n 'tercatat',\n 'elektronic',\n 'eh',\n 'tegas',\n 'trans',\n 'pembayaran',\n 'warna',\n 'siang',\n '70',\n 'dilengkapi',\n 'irjen',\n 'dimana',\n 'lama',\n 'arah',\n 'bjp',\n 'ngga',\n 'pesan',\n 'portable',\n 'didampingi',\n 'kl',\n 'bingung',\n 'enim',\n 'pengadaan',\n 'paham',\n 'karna',\n 'sadar',\n 'bahwa',\n 'nu',\n 'publik',\n 'januari',\n 'gorontalo',\n 'dlm',\n 'viral',\n 'lihat',\n 'diminta',\n 'dekat',\n 'wajib',\n 'ilir',\n 'berikan',\n 'nai',\n 'subang',\n 'alat',\n 'dll',\n 'tepat',\n 'kalian',\n 'asisten',\n 'nggak',\n 'sekaligus',\n 'sedang',\n 'ogan',\n 'bermotor',\n 'cinta',\n '16',\n 'kurang',\n 'nomer',\n 'keliling',\n 'lupa',\n 'sumbar',\n 'hapus',\n 'camat',\n 'dendanya',\n 'tindakan',\n 'ketika',\n 'komisioner',\n 'wong',\n 'merekam',\n 'berupa',\n 'cukup',\n 'taat',\n 'n',\n 'sabuk',\n 'rekam',\n 'komering',\n 'wkwkwk',\n 'melarang',\n 'gedung',\n 'kaya',\n 'dinas',\n 'tanya',\n 'blitar',\n 'korban',\n 'pekan',\n 'ganjil',\n 'genap',\n 'memantau',\n 'begitu',\n 'penjelasannya',\n 'semenjak',\n 'badung',\n 'lawan',\n 'dit',\n 'awal',\n 'apalagi',\n 'memasang',\n 'banyumas',\n 'patuh',\n '108',\n 'ruang',\n 'antara',\n 'sebelum',\n 'duit',\n 'makassar',\n 'kasubdit',\n 'peniadaan',\n 'protokol',\n 'dishub',\n 'musi',\n 'kecamatan',\n 'pelanggarannya',\n '24',\n '250',\n 'pantau',\n 'barat',\n '15',\n 'akhirnya',\n 'sebelumnya',\n 'rasa',\n 'yakin',\n 'kali',\n 'kari',\n 'negeri',\n 'dikmas',\n 'sekali',\n 'dijalan',\n 'supaya',\n 'luncurkan',\n 'berani',\n 'kira',\n 'sambil',\n 'platnya',\n 'lppl',\n 'korupsi',\n 'ingat',\n 'rakyat',\n '9',\n 'pengembangan',\n 'polisinya',\n 'cepat',\n 'dikasih',\n 'pn',\n 'kirim',\n 'whatsapp',\n 'suatu',\n 'nantinya',\n 'kembangkan',\n 'iptu',\n 'caranya',\n 'fm',\n 'benar',\n 'live',\n 'cc',\n 'prof',\n 'penting',\n 'dpt',\n 'tarik',\n 'serang',\n 'mengatakan',\n 'gmn',\n 'kesadaran',\n 'yo',\n 'loh',\n 'kepala',\n 'materi',\n 'dimaksimalkan',\n 'iya',\n 'tadi',\n 'mampu',\n 'doang',\n 'nataru',\n 'tahap',\n 'status',\n 'layanan',\n 'muhammad',\n 'berdasarkan',\n 'pengecekan',\n 'besaran',\n 'media',\n 'uang',\n 'tolong',\n 'damai',\n 'menghilangkan',\n 'dana',\n 'ds',\n 'ingatkan',\n 'mantap',\n 'rri',\n 'posko',\n 'cari',\n 'pd',\n 'pan',\n 'stiker',\n 'batu',\n 'mengetahui',\n 'tangan',\n 'website',\n 'perkara',\n 'optimalkan',\n 'kapan',\n 'meningkatkan',\n 'komisi',\n 'mati',\n 'bapak',\n 'jauh',\n 'pengawasan',\n 'cm',\n 'nasional',\n 'mata',\n 'apel',\n 'taslim',\n 'ketilang',\n 'uu',\n 'mempergunakan',\n 'penghargaan',\n 'knalpot',\n 'sudirman',\n 'belakang',\n 'keren',\n 'tilangetle',\n 'mas',\n 'desa',\n 'maka',\n 'direkam',\n 'sulteng',\n 'pemanfaatan',\n 'menuju',\n 'sengaja',\n 'kendaraannya',\n 'tetapi',\n 'gampang',\n 'beda',\n 'ngurus',\n 'keluar',\n 'adapun',\n '20',\n 'utama',\n 'maksimal',\n 'meniadakan',\n 'preventive',\n 'siapa',\n 'bang',\n 'gt',\n 'sebut',\n 'ibu',\n 'imigrasi',\n 'lilin',\n 'sepanjang',\n 'melebihi',\n '12',\n 'muncul',\n 'masalah',\n 'nunggu',\n 'trafic',\n '100',\n 'mohon',\n 'pengenal',\n 'org',\n 'hati',\n 'efek',\n 'subdit',\n 'biasanya',\n 'web',\n 'lokasinya',\n 'asing',\n 'dinilai',\n 'bila',\n 'hai',\n 'school',\n 'police',\n 'tu',\n 'kerjanya',\n '30',\n 'yaitu',\n 'hoy',\n 'angka',\n 'muaradua',\n 'terpadu',\n 'bagian',\n 'korps',\n 'sehingga',\n 'beli',\n 'kawasan',\n 'msh',\n 'bahkan',\n 'ambil',\n 'menurut',\n 'misal',\n 'gantinya',\n 'jelang',\n 'fungsi',\n 'lakban',\n 'lancar',\n 'guru',\n 'chairuddin',\n 'ingin',\n 'hitam',\n 'aksi',\n 'kelemahan',\n 'mobilnya',\n 'cegah',\n 'ikut',\n '2009',\n 'chhe',\n 'mending',\n 'jaman',\n 'jombang',\n 'enforvement',\n 'palu',\n 'tepatnya',\n 'brigjen',\n 'topik',\n 'termasuk',\n 'kalsel',\n 'usah',\n ...]"
     },
     "execution_count": 15,
     "metadata": {},
     "output_type": "execute_result"
    }
   ],
   "source": [
    "w2v.index_to_key"
   ],
   "metadata": {
    "collapsed": false,
    "pycharm": {
     "name": "#%%\n"
    }
   }
  },
  {
   "cell_type": "code",
   "execution_count": 16,
   "outputs": [
    {
     "data": {
      "text/plain": "array([[-0.51987576, -0.11301365,  0.86377126, ..., -0.4791857 ,\n         0.5146075 , -1.1546612 ],\n       [-0.6688522 , -0.55416536,  1.2798222 , ..., -0.453539  ,\n         0.26390088, -1.440308  ],\n       [ 0.1358714 , -3.6266193 ,  0.07829557, ...,  1.7402557 ,\n        -0.77879614,  0.9131657 ],\n       ...,\n       [-2.6406634 , -0.05117225, -0.92996335, ..., -2.2555313 ,\n        -0.8254951 ,  1.7208917 ],\n       [ 0.3294125 , -4.8576927 ,  1.1033006 , ..., -1.40378   ,\n        -1.4137754 ,  1.9022019 ],\n       [-0.81305736,  0.9110352 ,  0.37552348, ...,  0.46394384,\n         1.0125691 , -1.2304474 ]], dtype=float32)"
     },
     "execution_count": 16,
     "metadata": {},
     "output_type": "execute_result"
    }
   ],
   "source": [
    "w2v.vectors"
   ],
   "metadata": {
    "collapsed": false,
    "pycharm": {
     "name": "#%%\n"
    }
   }
  },
  {
   "cell_type": "code",
   "execution_count": 17,
   "outputs": [
    {
     "data": {
      "text/plain": "128"
     },
     "execution_count": 17,
     "metadata": {},
     "output_type": "execute_result"
    }
   ],
   "source": [
    "w2v.vector_size"
   ],
   "metadata": {
    "collapsed": false,
    "pycharm": {
     "name": "#%%\n"
    }
   }
  },
  {
   "cell_type": "code",
   "execution_count": 19,
   "outputs": [
    {
     "data": {
      "text/plain": "array([ 2.1157606 , -0.12685345,  1.5248972 , -0.95952207, -2.286263  ,\n       -1.5288812 , -0.21539417,  2.4283743 , -2.482218  ,  3.918049  ,\n        3.9015622 , -0.54111063,  0.09709703,  1.4287821 ,  2.524994  ,\n        0.5084887 ,  1.2018636 ,  0.31482697, -3.8784752 , -0.2934743 ,\n        0.42448187, -0.41837513,  0.49797714, -1.5234358 , -0.629219  ,\n       -0.01684473,  4.2627497 ,  1.0899798 , -0.03885339, -4.591828  ,\n        0.83279026, -0.706956  ,  4.5625935 , -4.8738937 ,  0.9138127 ,\n       -1.8241602 ,  1.6703519 ,  0.36238486, -5.431518  , -2.3831906 ,\n       -4.517662  ,  3.0880103 ,  2.045776  , -4.2764244 , -2.733722  ,\n       -0.39301768,  4.0736184 , -0.67163205, -3.4500792 ,  0.13262872,\n       -0.30564135, -2.140066  ,  2.96824   , -0.26480174, -0.13205644,\n       -1.2466093 , -0.85349894,  0.6327887 , -0.6710296 ,  1.0454823 ,\n       -2.7736437 ,  3.2192435 ,  1.0030837 ,  3.0382364 , -0.931653  ,\n        0.8921258 , -0.02530616,  0.27140406, -1.5704445 ,  0.8619415 ,\n       -0.13250162, -0.43909574, -6.3972397 , -1.5780897 ,  2.5450425 ,\n       -1.3898318 , -0.9427667 , -2.6807065 ,  2.6407769 , -3.281437  ,\n        1.1657735 ,  0.41617584, -3.2713556 , -0.6892625 ,  2.3233178 ,\n       -1.0788938 , -0.79078084, -2.5235214 , -4.530525  ,  3.6151361 ,\n       -0.02269859,  5.1495695 , -0.53024274,  2.9429865 , -1.2999201 ,\n       -2.3518224 , -3.0157726 , -0.09500434, -0.29520705,  1.4120194 ,\n       -2.426555  ,  0.18359649,  4.5801773 , -2.8247023 , -1.3429551 ,\n       -0.90674   ,  4.108201  , -4.220999  ,  3.4429371 , -3.3468988 ,\n       -1.6336784 ,  0.6406046 , -0.36456102,  0.89967656, -1.4636143 ,\n       -2.2429845 , -3.0629253 ,  0.5694036 , -3.2404895 ,  0.82021034,\n       -0.97709477, -3.7344272 ,  0.5355977 ,  1.6040545 ,  0.42469677,\n        4.1240077 , -1.7014047 , -0.03788436], dtype=float32)"
     },
     "execution_count": 19,
     "metadata": {},
     "output_type": "execute_result"
    }
   ],
   "source": [
    "w2v.get_vector(\"ojol\")"
   ],
   "metadata": {
    "collapsed": false,
    "pycharm": {
     "name": "#%%\n"
    }
   }
  },
  {
   "cell_type": "markdown",
   "source": [
    "## sanity check"
   ],
   "metadata": {
    "collapsed": false,
    "pycharm": {
     "name": "#%% md\n"
    }
   }
  },
  {
   "cell_type": "markdown",
   "source": [],
   "metadata": {
    "collapsed": false,
    "pycharm": {
     "name": "#%% md\n"
    }
   }
  },
  {
   "cell_type": "code",
   "execution_count": 39,
   "outputs": [
    {
     "data": {
      "text/plain": "[('smkn', 0.41539373993873596),\n ('p', 0.33039793372154236),\n ('dikorupsi', 0.3286185562610626),\n ('just', 0.32326245307922363),\n ('pahami', 0.3108600974082947)]"
     },
     "execution_count": 39,
     "metadata": {},
     "output_type": "execute_result"
    }
   ],
   "source": [
    "w2v.similar_by_word(\"jokowi\", topn=5)"
   ],
   "metadata": {
    "collapsed": false,
    "pycharm": {
     "name": "#%%\n"
    }
   }
  },
  {
   "cell_type": "code",
   "execution_count": 43,
   "outputs": [
    {
     "ename": "SystemError",
     "evalue": "initialization of _internal failed without raising an exception",
     "output_type": "error",
     "traceback": [
      "\u001B[1;31m---------------------------------------------------------------------------\u001B[0m",
      "\u001B[1;31mSystemError\u001B[0m                               Traceback (most recent call last)",
      "Cell \u001B[1;32mIn[43], line 1\u001B[0m\n\u001B[1;32m----> 1\u001B[0m \u001B[38;5;28;01mfrom\u001B[39;00m \u001B[38;5;21;01mumap\u001B[39;00m \u001B[38;5;28;01mimport\u001B[39;00m UMAP\n\u001B[0;32m      2\u001B[0m \u001B[38;5;28;01mimport\u001B[39;00m \u001B[38;5;21;01mplotly\u001B[39;00m\u001B[38;5;21;01m.\u001B[39;00m\u001B[38;5;21;01mexpress\u001B[39;00m \u001B[38;5;28;01mas\u001B[39;00m \u001B[38;5;21;01mpx\u001B[39;00m\n",
      "File \u001B[1;32m~\\PycharmProjects\\skripsi_bert_ngab\\venv\\lib\\site-packages\\umap\\__init__.py:2\u001B[0m\n\u001B[0;32m      1\u001B[0m \u001B[38;5;28;01mfrom\u001B[39;00m \u001B[38;5;21;01mwarnings\u001B[39;00m \u001B[38;5;28;01mimport\u001B[39;00m warn, catch_warnings, simplefilter\n\u001B[1;32m----> 2\u001B[0m \u001B[38;5;28;01mfrom\u001B[39;00m \u001B[38;5;21;01m.\u001B[39;00m\u001B[38;5;21;01mumap_\u001B[39;00m \u001B[38;5;28;01mimport\u001B[39;00m UMAP\n\u001B[0;32m      4\u001B[0m \u001B[38;5;28;01mtry\u001B[39;00m:\n\u001B[0;32m      5\u001B[0m     \u001B[38;5;28;01mwith\u001B[39;00m catch_warnings():\n",
      "File \u001B[1;32m~\\PycharmProjects\\skripsi_bert_ngab\\venv\\lib\\site-packages\\umap\\umap_.py:28\u001B[0m\n\u001B[0;32m     26\u001B[0m \u001B[38;5;28;01mfrom\u001B[39;00m \u001B[38;5;21;01mscipy\u001B[39;00m\u001B[38;5;21;01m.\u001B[39;00m\u001B[38;5;21;01msparse\u001B[39;00m \u001B[38;5;28;01mimport\u001B[39;00m tril \u001B[38;5;28;01mas\u001B[39;00m sparse_tril, triu \u001B[38;5;28;01mas\u001B[39;00m sparse_triu\n\u001B[0;32m     27\u001B[0m \u001B[38;5;28;01mimport\u001B[39;00m \u001B[38;5;21;01mscipy\u001B[39;00m\u001B[38;5;21;01m.\u001B[39;00m\u001B[38;5;21;01msparse\u001B[39;00m\u001B[38;5;21;01m.\u001B[39;00m\u001B[38;5;21;01mcsgraph\u001B[39;00m\n\u001B[1;32m---> 28\u001B[0m \u001B[38;5;28;01mimport\u001B[39;00m \u001B[38;5;21;01mnumba\u001B[39;00m\n\u001B[0;32m     30\u001B[0m \u001B[38;5;28;01mimport\u001B[39;00m \u001B[38;5;21;01mumap\u001B[39;00m\u001B[38;5;21;01m.\u001B[39;00m\u001B[38;5;21;01mdistances\u001B[39;00m \u001B[38;5;28;01mas\u001B[39;00m \u001B[38;5;21;01mdist\u001B[39;00m\n\u001B[0;32m     32\u001B[0m \u001B[38;5;28;01mimport\u001B[39;00m \u001B[38;5;21;01mumap\u001B[39;00m\u001B[38;5;21;01m.\u001B[39;00m\u001B[38;5;21;01msparse\u001B[39;00m \u001B[38;5;28;01mas\u001B[39;00m \u001B[38;5;21;01msparse\u001B[39;00m\n",
      "File \u001B[1;32m~\\PycharmProjects\\skripsi_bert_ngab\\venv\\lib\\site-packages\\numba\\__init__.py:42\u001B[0m\n\u001B[0;32m     38\u001B[0m \u001B[38;5;28;01mfrom\u001B[39;00m \u001B[38;5;21;01mnumba\u001B[39;00m\u001B[38;5;21;01m.\u001B[39;00m\u001B[38;5;21;01mcore\u001B[39;00m\u001B[38;5;21;01m.\u001B[39;00m\u001B[38;5;21;01mdecorators\u001B[39;00m \u001B[38;5;28;01mimport\u001B[39;00m (cfunc, generated_jit, jit, njit, stencil,\n\u001B[0;32m     39\u001B[0m                                    jit_module)\n\u001B[0;32m     41\u001B[0m \u001B[38;5;66;03m# Re-export vectorize decorators and the thread layer querying function\u001B[39;00m\n\u001B[1;32m---> 42\u001B[0m \u001B[38;5;28;01mfrom\u001B[39;00m \u001B[38;5;21;01mnumba\u001B[39;00m\u001B[38;5;21;01m.\u001B[39;00m\u001B[38;5;21;01mnp\u001B[39;00m\u001B[38;5;21;01m.\u001B[39;00m\u001B[38;5;21;01mufunc\u001B[39;00m \u001B[38;5;28;01mimport\u001B[39;00m (vectorize, guvectorize, threading_layer,\n\u001B[0;32m     43\u001B[0m                             get_num_threads, set_num_threads,\n\u001B[0;32m     44\u001B[0m                             set_parallel_chunksize, get_parallel_chunksize,\n\u001B[0;32m     45\u001B[0m                             get_thread_id)\n\u001B[0;32m     47\u001B[0m \u001B[38;5;66;03m# Re-export Numpy helpers\u001B[39;00m\n\u001B[0;32m     48\u001B[0m \u001B[38;5;28;01mfrom\u001B[39;00m \u001B[38;5;21;01mnumba\u001B[39;00m\u001B[38;5;21;01m.\u001B[39;00m\u001B[38;5;21;01mnp\u001B[39;00m\u001B[38;5;21;01m.\u001B[39;00m\u001B[38;5;21;01mnumpy_support\u001B[39;00m \u001B[38;5;28;01mimport\u001B[39;00m carray, farray, from_dtype\n",
      "File \u001B[1;32m~\\PycharmProjects\\skripsi_bert_ngab\\venv\\lib\\site-packages\\numba\\np\\ufunc\\__init__.py:3\u001B[0m\n\u001B[0;32m      1\u001B[0m \u001B[38;5;66;03m# -*- coding: utf-8 -*-\u001B[39;00m\n\u001B[1;32m----> 3\u001B[0m \u001B[38;5;28;01mfrom\u001B[39;00m \u001B[38;5;21;01mnumba\u001B[39;00m\u001B[38;5;21;01m.\u001B[39;00m\u001B[38;5;21;01mnp\u001B[39;00m\u001B[38;5;21;01m.\u001B[39;00m\u001B[38;5;21;01mufunc\u001B[39;00m\u001B[38;5;21;01m.\u001B[39;00m\u001B[38;5;21;01mdecorators\u001B[39;00m \u001B[38;5;28;01mimport\u001B[39;00m Vectorize, GUVectorize, vectorize, guvectorize\n\u001B[0;32m      4\u001B[0m \u001B[38;5;28;01mfrom\u001B[39;00m \u001B[38;5;21;01mnumba\u001B[39;00m\u001B[38;5;21;01m.\u001B[39;00m\u001B[38;5;21;01mnp\u001B[39;00m\u001B[38;5;21;01m.\u001B[39;00m\u001B[38;5;21;01mufunc\u001B[39;00m\u001B[38;5;21;01m.\u001B[39;00m\u001B[38;5;21;01m_internal\u001B[39;00m \u001B[38;5;28;01mimport\u001B[39;00m PyUFunc_None, PyUFunc_Zero, PyUFunc_One\n\u001B[0;32m      5\u001B[0m \u001B[38;5;28;01mfrom\u001B[39;00m \u001B[38;5;21;01mnumba\u001B[39;00m\u001B[38;5;21;01m.\u001B[39;00m\u001B[38;5;21;01mnp\u001B[39;00m\u001B[38;5;21;01m.\u001B[39;00m\u001B[38;5;21;01mufunc\u001B[39;00m \u001B[38;5;28;01mimport\u001B[39;00m _internal, array_exprs\n",
      "File \u001B[1;32m~\\PycharmProjects\\skripsi_bert_ngab\\venv\\lib\\site-packages\\numba\\np\\ufunc\\decorators.py:3\u001B[0m\n\u001B[0;32m      1\u001B[0m \u001B[38;5;28;01mimport\u001B[39;00m \u001B[38;5;21;01minspect\u001B[39;00m\n\u001B[1;32m----> 3\u001B[0m \u001B[38;5;28;01mfrom\u001B[39;00m \u001B[38;5;21;01mnumba\u001B[39;00m\u001B[38;5;21;01m.\u001B[39;00m\u001B[38;5;21;01mnp\u001B[39;00m\u001B[38;5;21;01m.\u001B[39;00m\u001B[38;5;21;01mufunc\u001B[39;00m \u001B[38;5;28;01mimport\u001B[39;00m _internal\n\u001B[0;32m      4\u001B[0m \u001B[38;5;28;01mfrom\u001B[39;00m \u001B[38;5;21;01mnumba\u001B[39;00m\u001B[38;5;21;01m.\u001B[39;00m\u001B[38;5;21;01mnp\u001B[39;00m\u001B[38;5;21;01m.\u001B[39;00m\u001B[38;5;21;01mufunc\u001B[39;00m\u001B[38;5;21;01m.\u001B[39;00m\u001B[38;5;21;01mparallel\u001B[39;00m \u001B[38;5;28;01mimport\u001B[39;00m ParallelUFuncBuilder, ParallelGUFuncBuilder\n\u001B[0;32m      6\u001B[0m \u001B[38;5;28;01mfrom\u001B[39;00m \u001B[38;5;21;01mnumba\u001B[39;00m\u001B[38;5;21;01m.\u001B[39;00m\u001B[38;5;21;01mcore\u001B[39;00m\u001B[38;5;21;01m.\u001B[39;00m\u001B[38;5;21;01mregistry\u001B[39;00m \u001B[38;5;28;01mimport\u001B[39;00m DelayedRegistry\n",
      "\u001B[1;31mSystemError\u001B[0m: initialization of _internal failed without raising an exception"
     ]
    }
   ],
   "source": [
    "from umap import UMAP\n",
    "import plotly.express as px"
   ],
   "metadata": {
    "collapsed": false,
    "pycharm": {
     "name": "#%%\n"
    }
   }
  },
  {
   "cell_type": "markdown",
   "source": [
    "# LSTM"
   ],
   "metadata": {
    "collapsed": false,
    "pycharm": {
     "name": "#%% md\n"
    }
   }
  },
  {
   "cell_type": "code",
   "execution_count": null,
   "outputs": [],
   "source": [
    "def label_changer(value):\n",
    "    if value == 1:\n",
    "        new_value = 2\n",
    "    elif value == -1:\n",
    "        new_value = 0\n",
    "    else:\n",
    "        new_value = 1\n",
    "    return new_value"
   ],
   "metadata": {
    "collapsed": false,
    "pycharm": {
     "name": "#%%\n"
    }
   }
  },
  {
   "cell_type": "code",
   "execution_count": null,
   "outputs": [],
   "source": [
    "from keras.models import Sequential\n",
    "from keras.layers.core import Dense, Dropout\n",
    "from keras.layers import Embedding\n",
    "from keras.utils import pad_sequences\n",
    "from keras.preprocessing.text import Tokenizer\n",
    "from keras.layers import LSTM\n",
    "from gensim.models import Word2Vec\n",
    "from sklearn.model_selection import train_test_split\n",
    "from sklearn.metrics import confusion_matrix, accuracy_score\n",
    "import gensim.models.keyedvectors as w2vmodel\n",
    "\n",
    "\n",
    "data_label = pd.read_csv(\"dataset_final_vader.csv\", delimiter=';')\n",
    "data_tweet_fix = pd.read_csv(\"fix_with_slang.csv\", delimiter=';')\n",
    "data_label['text_id'] = data_tweet_fix['text_id']\n",
    "data_label.drop([\"origin_text_id\", \"origin_text_en\",\"text_en\"], axis=1)\n",
    "data_label['label_vader'] = data_label['label_vader'].apply(lambda x : label_changer(x))\n",
    "# data_label = data_label.sample(frac=1).reset_index(drop=True)\n",
    "\n",
    "\n",
    "w2v_model = Word2Vec.load(\"model/w2v/etle_dataset_origin_text.model\")\n",
    "tokenizer = Tokenizer()\n",
    "tokenizer.fit_on_texts(data_label['text_id'])\n",
    "X = tokenizer.texts_to_sequences(data_label['text_id'])\n",
    "\n",
    "max_len_tweet = 60\n",
    "X = pad_sequences(X, maxlen=max_len_tweet)\n",
    "print(X.shape)\n",
    "\n",
    "vocab_size = len(tokenizer.word_index) + 1\n",
    "embedding_matrix = np.zeros((vocab_size, 128))\n",
    "for word,i in tokenizer.word_index.items():\n",
    "    if word in w2v_model.wv:\n",
    "        embedding_matrix[i] = w2v_model.wv[word]\n",
    "\n",
    "model_lstm = Sequential()\n",
    "model_lstm.add(Embedding(vocab_size,16, input_length=max_len_tweet))\n",
    "model_lstm.add(LSTM(128, activation='tanh'))\n",
    "model_lstm.add(Dropout(0.2))\n",
    "model_lstm.add(Dense(1, activation=\"softmax\"))\n",
    "\n",
    "\n",
    "model_lstm.compile(loss=\"categorical_crossentropy\", optimizer=\"adam\", metrics=[\"accuracy\"])\n",
    "\n",
    "\n",
    "train_size = int(len(data_label) * 0.8)\n",
    "train_X, test_X = X[:train_size], X[train_size:]\n",
    "train_y, test_y = data_label[\"label_vader\"][:train_size], data_label[\"label_vader\"][train_size:]\n",
    "\n",
    "train_X = np.stack(train_X, axis=0)\n",
    "train_y = np.stack(train_y, axis=0)\n",
    "model_lstm.fit(train_X, train_y, validation_data=(test_X, test_y), epochs=10, batch_size=128)\n",
    "\n",
    "scores = model_lstm.evaluate(test_X, test_y, verbose=0)\n",
    "print(f\"Accuracy: {scores[1]*100} %\")\n",
    "\n"
   ],
   "metadata": {
    "collapsed": false,
    "pycharm": {
     "name": "#%%\n"
    }
   }
  },
  {
   "cell_type": "code",
   "execution_count": 15,
   "outputs": [
    {
     "name": "stdout",
     "output_type": "stream",
     "text": [
      "(7621, 60)\n",
      "Epoch 1/10\n",
      "48/48 [==============================] - 8s 101ms/step - loss: 0.0000e+00 - accuracy: 0.3425 - val_loss: 0.0000e+00 - val_accuracy: 0.3357\n",
      "Epoch 2/10\n",
      "48/48 [==============================] - 4s 90ms/step - loss: 0.0000e+00 - accuracy: 0.3425 - val_loss: 0.0000e+00 - val_accuracy: 0.3357\n",
      "Epoch 3/10\n",
      "48/48 [==============================] - 5s 97ms/step - loss: 0.0000e+00 - accuracy: 0.3425 - val_loss: 0.0000e+00 - val_accuracy: 0.3357\n",
      "Epoch 4/10\n",
      "48/48 [==============================] - 5s 95ms/step - loss: 0.0000e+00 - accuracy: 0.3425 - val_loss: 0.0000e+00 - val_accuracy: 0.3357\n",
      "Epoch 5/10\n",
      "48/48 [==============================] - 5s 100ms/step - loss: 0.0000e+00 - accuracy: 0.3425 - val_loss: 0.0000e+00 - val_accuracy: 0.3357\n",
      "Epoch 6/10\n",
      "48/48 [==============================] - 4s 88ms/step - loss: 0.0000e+00 - accuracy: 0.3425 - val_loss: 0.0000e+00 - val_accuracy: 0.3357\n",
      "Epoch 7/10\n",
      "48/48 [==============================] - 4s 90ms/step - loss: 0.0000e+00 - accuracy: 0.3425 - val_loss: 0.0000e+00 - val_accuracy: 0.3357\n",
      "Epoch 8/10\n",
      "48/48 [==============================] - 4s 89ms/step - loss: 0.0000e+00 - accuracy: 0.3425 - val_loss: 0.0000e+00 - val_accuracy: 0.3357\n",
      "Epoch 9/10\n",
      "48/48 [==============================] - 4s 87ms/step - loss: 0.0000e+00 - accuracy: 0.3425 - val_loss: 0.0000e+00 - val_accuracy: 0.3357\n",
      "Epoch 10/10\n",
      "48/48 [==============================] - 4s 86ms/step - loss: 0.0000e+00 - accuracy: 0.3425 - val_loss: 0.0000e+00 - val_accuracy: 0.3357\n",
      "Accuracy: 33.57377052307129 %\n"
     ]
    }
   ],
   "source": [
    "from keras.models import Sequential\n",
    "from keras.layers.core import Dense, Dropout\n",
    "from keras.layers import Embedding\n",
    "from keras.utils import pad_sequences\n",
    "from keras.preprocessing.text import Tokenizer\n",
    "from keras.layers import LSTM\n",
    "from gensim.models import Word2Vec\n",
    "from sklearn.model_selection import train_test_split\n",
    "from sklearn.metrics import confusion_matrix, accuracy_score\n",
    "import gensim.models.keyedvectors as w2vmodel\n",
    "\n",
    "\n",
    "data_label = pd.read_csv(\"dataset_final_vader.csv\", delimiter=';')\n",
    "data_tweet_fix = pd.read_csv(\"fix_with_slang.csv\", delimiter=';')\n",
    "data_label['text_id'] = data_tweet_fix['text_id']\n",
    "data_label.drop([\"origin_text_id\", \"origin_text_en\",\"text_en\"], axis=1)\n",
    "data_label['label_vader'] = data_label['label_vader'].apply(lambda x : label_changer(x))\n",
    "# data_label = data_label.sample(frac=1).reset_index(drop=True)\n",
    "\n",
    "\n",
    "w2v_model = Word2Vec.load(\"model/w2v/etle_dataset_origin_text.model\")\n",
    "tokenizer = Tokenizer()\n",
    "tokenizer.fit_on_texts(data_label['text_id'])\n",
    "X = tokenizer.texts_to_sequences(data_label['text_id'])\n",
    "\n",
    "max_len_tweet = 60\n",
    "X = pad_sequences(X, maxlen=max_len_tweet)\n",
    "print(X.shape)\n",
    "\n",
    "vocab_size = len(tokenizer.word_index) + 1\n",
    "embedding_matrix = np.zeros((vocab_size, 128))\n",
    "for word,i in tokenizer.word_index.items():\n",
    "    if word in w2v_model.wv:\n",
    "        embedding_matrix[i] = w2v_model.wv[word]\n",
    "\n",
    "model_lstm = Sequential()\n",
    "model_lstm.add(Embedding(vocab_size,16, input_length=max_len_tweet))\n",
    "model_lstm.add(LSTM(128, activation='tanh'))\n",
    "model_lstm.add(Dropout(0.2))\n",
    "model_lstm.add(Dense(1, activation=\"softmax\"))\n",
    "\n",
    "\n",
    "model_lstm.compile(loss=\"categorical_crossentropy\", optimizer=\"adam\", metrics=[\"accuracy\"])\n",
    "\n",
    "\n",
    "train_size = int(len(data_label) * 0.8)\n",
    "train_X, test_X = X[:train_size], X[train_size:]\n",
    "train_y, test_y = data_label[\"label_vader\"][:train_size], data_label[\"label_vader\"][train_size:]\n",
    "\n",
    "train_X = np.stack(train_X, axis=0)\n",
    "train_y = np.stack(train_y, axis=0)\n",
    "model_lstm.fit(train_X, train_y, validation_data=(test_X, test_y), epochs=10, batch_size=128)\n",
    "\n",
    "scores = model_lstm.evaluate(test_X, test_y, verbose=0)\n",
    "print(f\"Accuracy: {scores[1]*100} %\")\n",
    "\n"
   ],
   "metadata": {
    "collapsed": false,
    "pycharm": {
     "name": "#%%\n"
    }
   }
  },
  {
   "cell_type": "code",
   "execution_count": 32,
   "outputs": [
    {
     "name": "stdout",
     "output_type": "stream",
     "text": [
      "48/48 [==============================] - 1s 10ms/step\n"
     ]
    },
    {
     "ename": "ValueError",
     "evalue": "Classification metrics can't handle a mix of multiclass and continuous targets",
     "output_type": "error",
     "traceback": [
      "\u001B[1;31m---------------------------------------------------------------------------\u001B[0m",
      "\u001B[1;31mValueError\u001B[0m                                Traceback (most recent call last)",
      "Cell \u001B[1;32mIn[32], line 2\u001B[0m\n\u001B[0;32m      1\u001B[0m y_pred \u001B[38;5;241m=\u001B[39m model_lstm\u001B[38;5;241m.\u001B[39mpredict(test_X)\n\u001B[1;32m----> 2\u001B[0m \u001B[38;5;28mprint\u001B[39m(\u001B[38;5;124m\"\u001B[39m\u001B[38;5;124mAccuracy:\u001B[39m\u001B[38;5;124m\"\u001B[39m, \u001B[43maccuracy_score\u001B[49m\u001B[43m(\u001B[49m\u001B[43mtest_y\u001B[49m\u001B[43m,\u001B[49m\u001B[43m \u001B[49m\u001B[43my_pred\u001B[49m\u001B[43m)\u001B[49m)\n\u001B[0;32m      3\u001B[0m \u001B[38;5;28mprint\u001B[39m(\u001B[38;5;124m\"\u001B[39m\u001B[38;5;124mConfusion Matrix:\u001B[39m\u001B[38;5;130;01m\\n\u001B[39;00m\u001B[38;5;124m\"\u001B[39m, confusion_matrix(test_y, y_pred))\n",
      "File \u001B[1;32m~\\PycharmProjects\\skripsi_bert_ngab\\venv\\lib\\site-packages\\sklearn\\utils\\_param_validation.py:192\u001B[0m, in \u001B[0;36mvalidate_params.<locals>.decorator.<locals>.wrapper\u001B[1;34m(*args, **kwargs)\u001B[0m\n\u001B[0;32m    187\u001B[0m validate_parameter_constraints(\n\u001B[0;32m    188\u001B[0m     parameter_constraints, params, caller_name\u001B[38;5;241m=\u001B[39mfunc\u001B[38;5;241m.\u001B[39m\u001B[38;5;18m__qualname__\u001B[39m\n\u001B[0;32m    189\u001B[0m )\n\u001B[0;32m    191\u001B[0m \u001B[38;5;28;01mtry\u001B[39;00m:\n\u001B[1;32m--> 192\u001B[0m     \u001B[38;5;28;01mreturn\u001B[39;00m func(\u001B[38;5;241m*\u001B[39margs, \u001B[38;5;241m*\u001B[39m\u001B[38;5;241m*\u001B[39mkwargs)\n\u001B[0;32m    193\u001B[0m \u001B[38;5;28;01mexcept\u001B[39;00m InvalidParameterError \u001B[38;5;28;01mas\u001B[39;00m e:\n\u001B[0;32m    194\u001B[0m     \u001B[38;5;66;03m# When the function is just a wrapper around an estimator, we allow\u001B[39;00m\n\u001B[0;32m    195\u001B[0m     \u001B[38;5;66;03m# the function to delegate validation to the estimator, but we replace\u001B[39;00m\n\u001B[0;32m    196\u001B[0m     \u001B[38;5;66;03m# the name of the estimator by the name of the function in the error\u001B[39;00m\n\u001B[0;32m    197\u001B[0m     \u001B[38;5;66;03m# message to avoid confusion.\u001B[39;00m\n\u001B[0;32m    198\u001B[0m     msg \u001B[38;5;241m=\u001B[39m re\u001B[38;5;241m.\u001B[39msub(\n\u001B[0;32m    199\u001B[0m         \u001B[38;5;124mr\u001B[39m\u001B[38;5;124m\"\u001B[39m\u001B[38;5;124mparameter of \u001B[39m\u001B[38;5;124m\\\u001B[39m\u001B[38;5;124mw+ must be\u001B[39m\u001B[38;5;124m\"\u001B[39m,\n\u001B[0;32m    200\u001B[0m         \u001B[38;5;124mf\u001B[39m\u001B[38;5;124m\"\u001B[39m\u001B[38;5;124mparameter of \u001B[39m\u001B[38;5;132;01m{\u001B[39;00mfunc\u001B[38;5;241m.\u001B[39m\u001B[38;5;18m__qualname__\u001B[39m\u001B[38;5;132;01m}\u001B[39;00m\u001B[38;5;124m must be\u001B[39m\u001B[38;5;124m\"\u001B[39m,\n\u001B[0;32m    201\u001B[0m         \u001B[38;5;28mstr\u001B[39m(e),\n\u001B[0;32m    202\u001B[0m     )\n",
      "File \u001B[1;32m~\\PycharmProjects\\skripsi_bert_ngab\\venv\\lib\\site-packages\\sklearn\\metrics\\_classification.py:221\u001B[0m, in \u001B[0;36maccuracy_score\u001B[1;34m(y_true, y_pred, normalize, sample_weight)\u001B[0m\n\u001B[0;32m    155\u001B[0m \u001B[38;5;250m\u001B[39m\u001B[38;5;124;03m\"\"\"Accuracy classification score.\u001B[39;00m\n\u001B[0;32m    156\u001B[0m \n\u001B[0;32m    157\u001B[0m \u001B[38;5;124;03mIn multilabel classification, this function computes subset accuracy:\u001B[39;00m\n\u001B[1;32m   (...)\u001B[0m\n\u001B[0;32m    217\u001B[0m \u001B[38;5;124;03m0.5\u001B[39;00m\n\u001B[0;32m    218\u001B[0m \u001B[38;5;124;03m\"\"\"\u001B[39;00m\n\u001B[0;32m    220\u001B[0m \u001B[38;5;66;03m# Compute accuracy for each possible representation\u001B[39;00m\n\u001B[1;32m--> 221\u001B[0m y_type, y_true, y_pred \u001B[38;5;241m=\u001B[39m \u001B[43m_check_targets\u001B[49m\u001B[43m(\u001B[49m\u001B[43my_true\u001B[49m\u001B[43m,\u001B[49m\u001B[43m \u001B[49m\u001B[43my_pred\u001B[49m\u001B[43m)\u001B[49m\n\u001B[0;32m    222\u001B[0m check_consistent_length(y_true, y_pred, sample_weight)\n\u001B[0;32m    223\u001B[0m \u001B[38;5;28;01mif\u001B[39;00m y_type\u001B[38;5;241m.\u001B[39mstartswith(\u001B[38;5;124m\"\u001B[39m\u001B[38;5;124mmultilabel\u001B[39m\u001B[38;5;124m\"\u001B[39m):\n",
      "File \u001B[1;32m~\\PycharmProjects\\skripsi_bert_ngab\\venv\\lib\\site-packages\\sklearn\\metrics\\_classification.py:95\u001B[0m, in \u001B[0;36m_check_targets\u001B[1;34m(y_true, y_pred)\u001B[0m\n\u001B[0;32m     92\u001B[0m     y_type \u001B[38;5;241m=\u001B[39m {\u001B[38;5;124m\"\u001B[39m\u001B[38;5;124mmulticlass\u001B[39m\u001B[38;5;124m\"\u001B[39m}\n\u001B[0;32m     94\u001B[0m \u001B[38;5;28;01mif\u001B[39;00m \u001B[38;5;28mlen\u001B[39m(y_type) \u001B[38;5;241m>\u001B[39m \u001B[38;5;241m1\u001B[39m:\n\u001B[1;32m---> 95\u001B[0m     \u001B[38;5;28;01mraise\u001B[39;00m \u001B[38;5;167;01mValueError\u001B[39;00m(\n\u001B[0;32m     96\u001B[0m         \u001B[38;5;124m\"\u001B[39m\u001B[38;5;124mClassification metrics can\u001B[39m\u001B[38;5;124m'\u001B[39m\u001B[38;5;124mt handle a mix of \u001B[39m\u001B[38;5;132;01m{0}\u001B[39;00m\u001B[38;5;124m and \u001B[39m\u001B[38;5;132;01m{1}\u001B[39;00m\u001B[38;5;124m targets\u001B[39m\u001B[38;5;124m\"\u001B[39m\u001B[38;5;241m.\u001B[39mformat(\n\u001B[0;32m     97\u001B[0m             type_true, type_pred\n\u001B[0;32m     98\u001B[0m         )\n\u001B[0;32m     99\u001B[0m     )\n\u001B[0;32m    101\u001B[0m \u001B[38;5;66;03m# We can't have more than one value on y_type => The set is no more needed\u001B[39;00m\n\u001B[0;32m    102\u001B[0m y_type \u001B[38;5;241m=\u001B[39m y_type\u001B[38;5;241m.\u001B[39mpop()\n",
      "\u001B[1;31mValueError\u001B[0m: Classification metrics can't handle a mix of multiclass and continuous targets"
     ]
    }
   ],
   "source": [
    "y_pred = model_lstm.predict(test_X)\n",
    "print(\"Accuracy:\", accuracy_score(test_y, y_pred))\n",
    "print(\"Confusion Matrix:\\n\", confusion_matrix(test_y, y_pred))"
   ],
   "metadata": {
    "collapsed": false,
    "pycharm": {
     "name": "#%%\n"
    }
   }
  },
  {
   "cell_type": "code",
   "execution_count": 33,
   "outputs": [
    {
     "name": "stderr",
     "output_type": "stream",
     "text": [
      "WARNING:absl:Found untraced functions such as _update_step_xla while saving (showing 1 of 1). These functions will not be directly callable after loading.\n"
     ]
    },
    {
     "name": "stdout",
     "output_type": "stream",
     "text": [
      "INFO:tensorflow:Assets written to: model_lstm_53.model\\assets\n"
     ]
    },
    {
     "name": "stderr",
     "output_type": "stream",
     "text": [
      "INFO:tensorflow:Assets written to: model_lstm_53.model\\assets\n"
     ]
    }
   ],
   "source": [
    "model_lstm.save('model_lstm_53.model')"
   ],
   "metadata": {
    "collapsed": false,
    "pycharm": {
     "name": "#%%\n"
    }
   }
  },
  {
   "cell_type": "code",
   "execution_count": 34,
   "outputs": [
    {
     "name": "stdout",
     "output_type": "stream",
     "text": [
      "Saved model to disk\n"
     ]
    }
   ],
   "source": [
    "model_json = model_lstm.to_json()\n",
    "with open(\"model_lstm_53.json\", \"w\") as json_file:\n",
    "    json_file.write(model_json)\n",
    "# serialize weights to HDF5\n",
    "model_lstm.save_weights(\"model_lstm_53.h5\")\n",
    "print(\"Saved model to disk\")"
   ],
   "metadata": {
    "collapsed": false,
    "pycharm": {
     "name": "#%%\n"
    }
   }
  },
  {
   "cell_type": "code",
   "execution_count": null,
   "outputs": [],
   "source": [],
   "metadata": {
    "collapsed": false,
    "pycharm": {
     "name": "#%%\n"
    }
   }
  }
 ],
 "metadata": {
  "kernelspec": {
   "display_name": "Python 3",
   "language": "python",
   "name": "python3"
  },
  "language_info": {
   "codemirror_mode": {
    "name": "ipython",
    "version": 2
   },
   "file_extension": ".py",
   "mimetype": "text/x-python",
   "name": "python",
   "nbconvert_exporter": "python",
   "pygments_lexer": "ipython2",
   "version": "2.7.6"
  }
 },
 "nbformat": 4,
 "nbformat_minor": 0
}