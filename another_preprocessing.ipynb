{
 "cells": [
  {
   "cell_type": "code",
   "execution_count": 1,
   "metadata": {
    "collapsed": true
   },
   "outputs": [
    {
     "name": "stderr",
     "output_type": "stream",
     "text": [
      "[nltk_data] Downloading package stopwords to\n",
      "[nltk_data]     C:\\Users\\MSI\\AppData\\Roaming\\nltk_data...\n",
      "[nltk_data]   Package stopwords is already up-to-date!\n",
      "[nltk_data] Downloading package punkt to\n",
      "[nltk_data]     C:\\Users\\MSI\\AppData\\Roaming\\nltk_data...\n",
      "[nltk_data]   Package punkt is already up-to-date!\n"
     ]
    }
   ],
   "source": [
    "import pandas as pd\n",
    "import numpy as np\n",
    "import matplotlib.pyplot as plt\n",
    "import seaborn as sns\n",
    "import nltk\n",
    "import re\n",
    "import csv\n",
    "import nest_asyncio\n",
    "nltk.download('stopwords')\n",
    "nltk.download('punkt')\n",
    "seed = 10\n",
    "np.random.seed(seed)\n",
    "sns.set(style = 'whitegrid')\n",
    "nest_asyncio.apply()\n",
    "# pd.options.mode.chained_assignment = True\n",
    "from nltk.tokenize import word_tokenize\n",
    "from nltk.corpus import stopwords\n",
    "from Sastrawi.Stemmer.StemmerFactory import StemmerFactory\n",
    "from Sastrawi.StopWordRemover.StopWordRemoverFactory import StopWordRemoverFactory\n",
    "\n",
    "from tensorflow import keras\n",
    "from keras.preprocessing.text import Tokenizer\n",
    "from keras.utils import pad_sequences\n",
    "from sklearn.model_selection import train_test_split\n",
    "from sklearn.metrics import accuracy_score\n",
    "from keras.models import Sequential\n",
    "from keras.layers import Embedding, Dense, Dropout, LSTM\n",
    "from keras.optimizers import Adam, RMSprop, SGD\n",
    "from keras.callbacks import EarlyStopping\n",
    "from keras.wrappers.scikit_learn import KerasClassifier\n",
    "from sklearn.model_selection import GridSearchCV\n",
    "from mlxtend.plotting import plot_confusion_matrix\n",
    "from  sklearn.metrics import confusion_matrix\n",
    "import emoji\n",
    "import string\n"
   ]
  },
  {
   "cell_type": "code",
   "execution_count": 2,
   "outputs": [],
   "source": [
    "def remove_emoji():\n",
    "    \"\"\"menghilangkan emoji\"\"\"\n",
    "    emojis = sorted(emoji.EMOJI_DATA, key=len, reverse=True)\n",
    "    pattern = u'(' + u'|'.join(re.escape(u) for u in emojis) + u')'\n",
    "    return re.compile(pattern)\n",
    "\n",
    "begone_emoji = remove_emoji()\n",
    "\n",
    "def remove_three_same_char(value):\n",
    "    \"\"\"menghilangkan repitisi 3 karakter berurutan seperti gooooool\"\"\"\n",
    "    pattern = re.compile(r\"(.)\\1{1,}\", re.DOTALL)\n",
    "    return pattern.sub(r\"\\1\\1\", value)\n",
    "def cleaning_text(value):\n",
    "  result = value.lower().strip()\n",
    "  result = remove_three_same_char(result)\n",
    "  result = ' '.join(result.split())\n",
    "  result = re.sub(r'(@|https?)\\S+|#[A-Za-z0-9_]+', '', result).replace(\"&amp;\", \"dan\")\n",
    "  result = re.sub(r'RT[\\s]+','',result)\n",
    "  result = begone_emoji.sub(repl='', string=result)\n",
    "  result = re.sub(r'[0-9]+','',result)\n",
    "  result = result.replace('\\n', ' ')\n",
    "  result = result.translate(str.maketrans('','',string.punctuation))\n",
    "  return result\n",
    "\n",
    "def tokenizing_text(value):\n",
    "  result= word_tokenize(value)\n",
    "  return result\n",
    "\n",
    "def filtering_stopwords(value):\n",
    "  list_stopwords = set(stopwords.words('indonesian'))\n",
    "  filtered = []\n",
    "  for text in value:\n",
    "    if text not in list_stopwords:\n",
    "      filtered.append(text)\n",
    "  return filtered\n",
    "\n",
    "def stemming_text(value):\n",
    "  factory = StemmerFactory()\n",
    "  stemmer = factory.create_stemmer()\n",
    "  return [stemmer.stem(word) for word in value]\n",
    "\n",
    "def sentence_make(tokenized):\n",
    "  return ' '.join(word for word in tokenized)\n",
    "\n",
    "\n",
    "def remove_slang(value):\n",
    "    kamus = eval(open(\"combined_slang_words.txt\").read())\n",
    "    pattern = re.compile(r\"\\b(%s)\\b\" % \"|\".join(kamus))\n",
    "    converted = pattern.sub(lambda word: kamus.get(word.group()), value)\n",
    "    # clear = re.sub(r'[^\\w\\s]', ' ', converted)\n",
    "    return converted"
   ],
   "metadata": {
    "collapsed": false
   }
  },
  {
   "cell_type": "code",
   "execution_count": 3,
   "outputs": [
    {
     "data": {
      "text/plain": "                                             text_id\n0  Kembangkan ETLE, 7 Polda Dapat Penghargaan di ...\n1  Sosialisasi etle dan app smart city\\n\\n#polsek...\n2  Berita populer kumparanOTO, Selasa (13/12) det...\n3  Mimin kasih info ya gaes, kita mau uji coba ET...\n4  personil lalu lintas polres badung melaksanaka...",
      "text/html": "<div>\n<style scoped>\n    .dataframe tbody tr th:only-of-type {\n        vertical-align: middle;\n    }\n\n    .dataframe tbody tr th {\n        vertical-align: top;\n    }\n\n    .dataframe thead th {\n        text-align: right;\n    }\n</style>\n<table border=\"1\" class=\"dataframe\">\n  <thead>\n    <tr style=\"text-align: right;\">\n      <th></th>\n      <th>text_id</th>\n    </tr>\n  </thead>\n  <tbody>\n    <tr>\n      <th>0</th>\n      <td>Kembangkan ETLE, 7 Polda Dapat Penghargaan di ...</td>\n    </tr>\n    <tr>\n      <th>1</th>\n      <td>Sosialisasi etle dan app smart city\\n\\n#polsek...</td>\n    </tr>\n    <tr>\n      <th>2</th>\n      <td>Berita populer kumparanOTO, Selasa (13/12) det...</td>\n    </tr>\n    <tr>\n      <th>3</th>\n      <td>Mimin kasih info ya gaes, kita mau uji coba ET...</td>\n    </tr>\n    <tr>\n      <th>4</th>\n      <td>personil lalu lintas polres badung melaksanaka...</td>\n    </tr>\n  </tbody>\n</table>\n</div>"
     },
     "execution_count": 3,
     "metadata": {},
     "output_type": "execute_result"
    }
   ],
   "source": [
    "df_etle = pd.read_excel('data oktober-des 2022 etilang tanpa lang dan etle.xlsx')\n",
    "df_etle.head()"
   ],
   "metadata": {
    "collapsed": false
   }
  },
  {
   "cell_type": "code",
   "execution_count": 4,
   "outputs": [
    {
     "data": {
      "text/plain": "                                             text_id  \\\n0  Kembangkan ETLE, 7 Polda Dapat Penghargaan di ...   \n1  Sosialisasi etle dan app smart city\\n\\n#polsek...   \n2  Berita populer kumparanOTO, Selasa (13/12) det...   \n3  Mimin kasih info ya gaes, kita mau uji coba ET...   \n4  personil lalu lintas polres badung melaksanaka...   \n\n                                    tweet_cleaned_id  \n0  kembangkan etle  polda dapat penghargaan di ra...  \n1              sosialisasi etle dan app smart city    \n2  berita populer kumparanoto selasa  detail vesp...  \n3  mimin kasih info ya gaes kita mau uji coba etl...  \n4  personil lalu lintas polres badung melaksanaka...  ",
      "text/html": "<div>\n<style scoped>\n    .dataframe tbody tr th:only-of-type {\n        vertical-align: middle;\n    }\n\n    .dataframe tbody tr th {\n        vertical-align: top;\n    }\n\n    .dataframe thead th {\n        text-align: right;\n    }\n</style>\n<table border=\"1\" class=\"dataframe\">\n  <thead>\n    <tr style=\"text-align: right;\">\n      <th></th>\n      <th>text_id</th>\n      <th>tweet_cleaned_id</th>\n    </tr>\n  </thead>\n  <tbody>\n    <tr>\n      <th>0</th>\n      <td>Kembangkan ETLE, 7 Polda Dapat Penghargaan di ...</td>\n      <td>kembangkan etle  polda dapat penghargaan di ra...</td>\n    </tr>\n    <tr>\n      <th>1</th>\n      <td>Sosialisasi etle dan app smart city\\n\\n#polsek...</td>\n      <td>sosialisasi etle dan app smart city</td>\n    </tr>\n    <tr>\n      <th>2</th>\n      <td>Berita populer kumparanOTO, Selasa (13/12) det...</td>\n      <td>berita populer kumparanoto selasa  detail vesp...</td>\n    </tr>\n    <tr>\n      <th>3</th>\n      <td>Mimin kasih info ya gaes, kita mau uji coba ET...</td>\n      <td>mimin kasih info ya gaes kita mau uji coba etl...</td>\n    </tr>\n    <tr>\n      <th>4</th>\n      <td>personil lalu lintas polres badung melaksanaka...</td>\n      <td>personil lalu lintas polres badung melaksanaka...</td>\n    </tr>\n  </tbody>\n</table>\n</div>"
     },
     "execution_count": 4,
     "metadata": {},
     "output_type": "execute_result"
    }
   ],
   "source": [
    "df_etle['tweet_cleaned_id'] = df_etle['text_id'].apply(cleaning_text)\n",
    "df_etle.head()"
   ],
   "metadata": {
    "collapsed": false
   }
  },
  {
   "cell_type": "markdown",
   "source": [],
   "metadata": {
    "collapsed": false
   }
  },
  {
   "cell_type": "markdown",
   "source": [],
   "metadata": {
    "collapsed": false
   }
  },
  {
   "cell_type": "code",
   "execution_count": 5,
   "outputs": [
    {
     "ename": "TypeError",
     "evalue": "drop_duplicates() got an unexpected keyword argument 'inpace'",
     "output_type": "error",
     "traceback": [
      "\u001B[1;31m---------------------------------------------------------------------------\u001B[0m",
      "\u001B[1;31mTypeError\u001B[0m                                 Traceback (most recent call last)",
      "Cell \u001B[1;32mIn[5], line 6\u001B[0m\n\u001B[0;32m      3\u001B[0m df_etle[\u001B[38;5;124m'\u001B[39m\u001B[38;5;124mtweet_preprocessed\u001B[39m\u001B[38;5;124m'\u001B[39m] \u001B[38;5;241m=\u001B[39m df_etle[\u001B[38;5;124m'\u001B[39m\u001B[38;5;124mtweet_preprocessed\u001B[39m\u001B[38;5;124m'\u001B[39m]\u001B[38;5;241m.\u001B[39mapply(filtering_stopwords)\n\u001B[0;32m      4\u001B[0m df_etle[\u001B[38;5;124m'\u001B[39m\u001B[38;5;124mtweet_preprocessed\u001B[39m\u001B[38;5;124m'\u001B[39m] \u001B[38;5;241m=\u001B[39m df_etle[\u001B[38;5;124m'\u001B[39m\u001B[38;5;124mtweet_preprocessed\u001B[39m\u001B[38;5;124m'\u001B[39m]\u001B[38;5;241m.\u001B[39mapply(stemming_text)\n\u001B[1;32m----> 6\u001B[0m \u001B[43mdf_etle\u001B[49m\u001B[38;5;241;43m.\u001B[39;49m\u001B[43mdrop_duplicates\u001B[49m\u001B[43m(\u001B[49m\u001B[43msubset\u001B[49m\u001B[43m \u001B[49m\u001B[38;5;241;43m=\u001B[39;49m\u001B[43m \u001B[49m\u001B[38;5;124;43m'\u001B[39;49m\u001B[38;5;124;43mtweet_cleaned_id\u001B[39;49m\u001B[38;5;124;43m'\u001B[39;49m\u001B[43m,\u001B[49m\u001B[43m \u001B[49m\u001B[43minpace\u001B[49m\u001B[43m \u001B[49m\u001B[38;5;241;43m=\u001B[39;49m\u001B[43m \u001B[49m\u001B[38;5;28;43;01mTrue\u001B[39;49;00m\u001B[43m  \u001B[49m\u001B[43m)\u001B[49m\n",
      "File \u001B[1;32m~\\PycharmProjects\\skripsi_bert_ngab\\venv\\lib\\site-packages\\pandas\\util\\_decorators.py:331\u001B[0m, in \u001B[0;36mdeprecate_nonkeyword_arguments.<locals>.decorate.<locals>.wrapper\u001B[1;34m(*args, **kwargs)\u001B[0m\n\u001B[0;32m    325\u001B[0m \u001B[38;5;28;01mif\u001B[39;00m \u001B[38;5;28mlen\u001B[39m(args) \u001B[38;5;241m>\u001B[39m num_allow_args:\n\u001B[0;32m    326\u001B[0m     warnings\u001B[38;5;241m.\u001B[39mwarn(\n\u001B[0;32m    327\u001B[0m         msg\u001B[38;5;241m.\u001B[39mformat(arguments\u001B[38;5;241m=\u001B[39m_format_argument_list(allow_args)),\n\u001B[0;32m    328\u001B[0m         \u001B[38;5;167;01mFutureWarning\u001B[39;00m,\n\u001B[0;32m    329\u001B[0m         stacklevel\u001B[38;5;241m=\u001B[39mfind_stack_level(),\n\u001B[0;32m    330\u001B[0m     )\n\u001B[1;32m--> 331\u001B[0m \u001B[38;5;28;01mreturn\u001B[39;00m func(\u001B[38;5;241m*\u001B[39margs, \u001B[38;5;241m*\u001B[39m\u001B[38;5;241m*\u001B[39mkwargs)\n",
      "\u001B[1;31mTypeError\u001B[0m: drop_duplicates() got an unexpected keyword argument 'inpace'"
     ]
    }
   ],
   "source": [
    "df_etle['tweet_preprocessed'] = df_etle['tweet_cleaned_id'].apply(remove_slang)\n",
    "df_etle['tweet_preprocessed'] = df_etle['tweet_preprocessed'].apply(tokenizing_text)\n",
    "df_etle['tweet_preprocessed'] = df_etle['tweet_preprocessed'].apply(filtering_stopwords)\n",
    "df_etle['tweet_preprocessed'] = df_etle['tweet_preprocessed'].apply(stemming_text)\n",
    "\n",
    "df_etle.drop_duplicates(subset = 'tweet_cleaned_id', inplace = True  )"
   ],
   "metadata": {
    "collapsed": false
   }
  },
  {
   "cell_type": "code",
   "execution_count": 6,
   "outputs": [
    {
     "data": {
      "text/plain": "                                                text_id  \\\n0     Kembangkan ETLE, 7 Polda Dapat Penghargaan di ...   \n1     Sosialisasi etle dan app smart city\\n\\n#polsek...   \n2     Berita populer kumparanOTO, Selasa (13/12) det...   \n3     Mimin kasih info ya gaes, kita mau uji coba ET...   \n4     personil lalu lintas polres badung melaksanaka...   \n...                                                 ...   \n7616  Jumlah dakgar lantas selama 1x24 jam yang terc...   \n7617  Pihak Kepolisian makin canggih perlengkapannya...   \n7618  IPW Minta Polri Tak Ragu Terapkan Tilang Manua...   \n7619  Sosialisasi E-TLE ( Elektronic Trafic Law Enfo...   \n7620  @txtdrberseragam etle etle tp msh manual ngamb...   \n\n                                       tweet_cleaned_id  \\\n0     kembangkan etle  polda dapat penghargaan di ra...   \n1                 sosialisasi etle dan app smart city     \n2     berita populer kumparanoto selasa  detail vesp...   \n3     mimin kasih info ya gaes kita mau uji coba etl...   \n4     personil lalu lintas polres badung melaksanaka...   \n...                                                 ...   \n7616  jumlah dakgar lantas selama x jam yang tercapt...   \n7617  pihak kepolisian makin canggih perlengkapannya...   \n7618  ipw minta polri tak ragu terapkan tilang manua...   \n7619  sosialisasi etle  elektronic trafic law enforv...   \n7620   etle etle tp msh manual ngambil fotonya emang...   \n\n                                     tweet_preprocessed  \n0     [kembang, etle, polda, harga, rakernis, fungsi...  \n1                 [sosialisasi, etle, app, smart, city]  \n2     [berita, populer, kumparanoto, selasa, detail,...  \n3     [mimin, kasih, informasi, iya, teman, uji, cob...  \n4     [personil, lintas, polres, badung, laksana, te...  \n...                                                 ...  \n7616  [dakgar, lantas, x, jam, tercapture, kamera, e...  \n7617  [polisi, canggih, lengkap, tindak, pelanggara,...  \n7618  [ipw, polri, ragu, terap, bukti, langgar, manu...  \n7619  [sosialisasi, etle, elektronic, trafic, law, e...  \n7620  [etle, etle, manual, ambil, foto, emang, tuolo...  \n\n[7621 rows x 3 columns]",
      "text/html": "<div>\n<style scoped>\n    .dataframe tbody tr th:only-of-type {\n        vertical-align: middle;\n    }\n\n    .dataframe tbody tr th {\n        vertical-align: top;\n    }\n\n    .dataframe thead th {\n        text-align: right;\n    }\n</style>\n<table border=\"1\" class=\"dataframe\">\n  <thead>\n    <tr style=\"text-align: right;\">\n      <th></th>\n      <th>text_id</th>\n      <th>tweet_cleaned_id</th>\n      <th>tweet_preprocessed</th>\n    </tr>\n  </thead>\n  <tbody>\n    <tr>\n      <th>0</th>\n      <td>Kembangkan ETLE, 7 Polda Dapat Penghargaan di ...</td>\n      <td>kembangkan etle  polda dapat penghargaan di ra...</td>\n      <td>[kembang, etle, polda, harga, rakernis, fungsi...</td>\n    </tr>\n    <tr>\n      <th>1</th>\n      <td>Sosialisasi etle dan app smart city\\n\\n#polsek...</td>\n      <td>sosialisasi etle dan app smart city</td>\n      <td>[sosialisasi, etle, app, smart, city]</td>\n    </tr>\n    <tr>\n      <th>2</th>\n      <td>Berita populer kumparanOTO, Selasa (13/12) det...</td>\n      <td>berita populer kumparanoto selasa  detail vesp...</td>\n      <td>[berita, populer, kumparanoto, selasa, detail,...</td>\n    </tr>\n    <tr>\n      <th>3</th>\n      <td>Mimin kasih info ya gaes, kita mau uji coba ET...</td>\n      <td>mimin kasih info ya gaes kita mau uji coba etl...</td>\n      <td>[mimin, kasih, informasi, iya, teman, uji, cob...</td>\n    </tr>\n    <tr>\n      <th>4</th>\n      <td>personil lalu lintas polres badung melaksanaka...</td>\n      <td>personil lalu lintas polres badung melaksanaka...</td>\n      <td>[personil, lintas, polres, badung, laksana, te...</td>\n    </tr>\n    <tr>\n      <th>...</th>\n      <td>...</td>\n      <td>...</td>\n      <td>...</td>\n    </tr>\n    <tr>\n      <th>7616</th>\n      <td>Jumlah dakgar lantas selama 1x24 jam yang terc...</td>\n      <td>jumlah dakgar lantas selama x jam yang tercapt...</td>\n      <td>[dakgar, lantas, x, jam, tercapture, kamera, e...</td>\n    </tr>\n    <tr>\n      <th>7617</th>\n      <td>Pihak Kepolisian makin canggih perlengkapannya...</td>\n      <td>pihak kepolisian makin canggih perlengkapannya...</td>\n      <td>[polisi, canggih, lengkap, tindak, pelanggara,...</td>\n    </tr>\n    <tr>\n      <th>7618</th>\n      <td>IPW Minta Polri Tak Ragu Terapkan Tilang Manua...</td>\n      <td>ipw minta polri tak ragu terapkan tilang manua...</td>\n      <td>[ipw, polri, ragu, terap, bukti, langgar, manu...</td>\n    </tr>\n    <tr>\n      <th>7619</th>\n      <td>Sosialisasi E-TLE ( Elektronic Trafic Law Enfo...</td>\n      <td>sosialisasi etle  elektronic trafic law enforv...</td>\n      <td>[sosialisasi, etle, elektronic, trafic, law, e...</td>\n    </tr>\n    <tr>\n      <th>7620</th>\n      <td>@txtdrberseragam etle etle tp msh manual ngamb...</td>\n      <td>etle etle tp msh manual ngambil fotonya emang...</td>\n      <td>[etle, etle, manual, ambil, foto, emang, tuolo...</td>\n    </tr>\n  </tbody>\n</table>\n<p>7621 rows × 3 columns</p>\n</div>"
     },
     "execution_count": 6,
     "metadata": {},
     "output_type": "execute_result"
    }
   ],
   "source": [
    "df_etle"
   ],
   "metadata": {
    "collapsed": false
   }
  },
  {
   "cell_type": "code",
   "execution_count": 7,
   "outputs": [],
   "source": [
    "df_etle.to_csv('colab_data_clean.csv', index=False, sep=';', header = True, index_label=None)\n"
   ],
   "metadata": {
    "collapsed": false
   }
  },
  {
   "cell_type": "code",
   "execution_count": 18,
   "outputs": [],
   "source": [
    "def lexicon_reader(path: str) -> dict:\n",
    "    with open(path, 'r') as csv_data:\n",
    "        bucket = dict()\n",
    "        reader = list(csv.reader(csv_data, delimiter =\",\"))\n",
    "        for row in reader[1:]:\n",
    "        # print(row[0])\n",
    "            bucket[row[0]] = int(row[1])\n",
    "    return bucket\n",
    "\n",
    "def sentiment_lexicon_indonesia(value):\n",
    "  score = 0\n",
    "  for word in value:\n",
    "    if word in lexicon_positive:\n",
    "        score += lexicon_positive[word]\n",
    "    if word in lexicon_negative:\n",
    "        score += lexicon_negative[word]\n",
    "  if score > 0:\n",
    "    polarity = 'positif'\n",
    "  elif score < 0:\n",
    "    polarity = 'negatif'\n",
    "  else:\n",
    "    polarity = 'netral'\n",
    "  return score, polarity\n",
    "\n",
    "lexicon_positive = lexicon_reader('positive.csv')\n",
    "lexicon_negative = lexicon_reader('negative.csv')\n",
    "\n"
   ],
   "metadata": {
    "collapsed": false
   }
  },
  {
   "cell_type": "code",
   "execution_count": 19,
   "outputs": [
    {
     "name": "stdout",
     "output_type": "stream",
     "text": [
      "<class 'pandas.core.series.Series'>\n",
      "RangeIndex: 7621 entries, 0 to 7620\n",
      "Series name: polarity\n",
      "Non-Null Count  Dtype \n",
      "--------------  ----- \n",
      "7621 non-null   object\n",
      "dtypes: object(1)\n",
      "memory usage: 59.7+ KB\n"
     ]
    },
    {
     "data": {
      "text/plain": "                                                text_id  \\\n0     Kembangkan ETLE, 7 Polda Dapat Penghargaan di ...   \n1     Sosialisasi etle dan app smart city\\n\\n#polsek...   \n2     Berita populer kumparanOTO, Selasa (13/12) det...   \n3     Mimin kasih info ya gaes, kita mau uji coba ET...   \n4     personil lalu lintas polres badung melaksanaka...   \n...                                                 ...   \n7616  Jumlah dakgar lantas selama 1x24 jam yang terc...   \n7617  Pihak Kepolisian makin canggih perlengkapannya...   \n7618  IPW Minta Polri Tak Ragu Terapkan Tilang Manua...   \n7619  Sosialisasi E-TLE ( Elektronic Trafic Law Enfo...   \n7620  @txtdrberseragam etle etle tp msh manual ngamb...   \n\n                                       tweet_cleaned_id  \\\n0     kembangkan etle  polda dapat penghargaan di ra...   \n1                 sosialisasi etle dan app smart city     \n2     berita populer kumparanoto selasa  detail vesp...   \n3     mimin kasih info ya gaes kita mau uji coba etl...   \n4     personil lalu lintas polres badung melaksanaka...   \n...                                                 ...   \n7616  jumlah dakgar lantas selama x jam yang tercapt...   \n7617  pihak kepolisian makin canggih perlengkapannya...   \n7618  ipw minta polri tak ragu terapkan tilang manua...   \n7619  sosialisasi etle  elektronic trafic law enforv...   \n7620   etle etle tp msh manual ngambil fotonya emang...   \n\n                                     tweet_preprocessed  polarity_score  \\\n0     [kembang, etle, polda, harga, rakernis, fungsi...               6   \n1                 [sosialisasi, etle, app, smart, city]               0   \n2     [berita, populer, kumparanoto, selasa, detail,...               7   \n3     [mimin, kasih, informasi, iya, teman, uji, cob...               7   \n4     [personil, lintas, polres, badung, laksana, te...              -5   \n...                                                 ...             ...   \n7616  [dakgar, lantas, x, jam, tercapture, kamera, e...               0   \n7617  [polisi, canggih, lengkap, tindak, pelanggara,...              -8   \n7618  [ipw, polri, ragu, terap, bukti, langgar, manu...              -6   \n7619  [sosialisasi, etle, elektronic, trafic, law, e...              -1   \n7620  [etle, etle, manual, ambil, foto, emang, tuolo...               1   \n\n     polarity  \n0     positif  \n1      netral  \n2     positif  \n3     positif  \n4     negatif  \n...       ...  \n7616   netral  \n7617  negatif  \n7618  negatif  \n7619  negatif  \n7620  positif  \n\n[7621 rows x 5 columns]",
      "text/html": "<div>\n<style scoped>\n    .dataframe tbody tr th:only-of-type {\n        vertical-align: middle;\n    }\n\n    .dataframe tbody tr th {\n        vertical-align: top;\n    }\n\n    .dataframe thead th {\n        text-align: right;\n    }\n</style>\n<table border=\"1\" class=\"dataframe\">\n  <thead>\n    <tr style=\"text-align: right;\">\n      <th></th>\n      <th>text_id</th>\n      <th>tweet_cleaned_id</th>\n      <th>tweet_preprocessed</th>\n      <th>polarity_score</th>\n      <th>polarity</th>\n    </tr>\n  </thead>\n  <tbody>\n    <tr>\n      <th>0</th>\n      <td>Kembangkan ETLE, 7 Polda Dapat Penghargaan di ...</td>\n      <td>kembangkan etle  polda dapat penghargaan di ra...</td>\n      <td>[kembang, etle, polda, harga, rakernis, fungsi...</td>\n      <td>6</td>\n      <td>positif</td>\n    </tr>\n    <tr>\n      <th>1</th>\n      <td>Sosialisasi etle dan app smart city\\n\\n#polsek...</td>\n      <td>sosialisasi etle dan app smart city</td>\n      <td>[sosialisasi, etle, app, smart, city]</td>\n      <td>0</td>\n      <td>netral</td>\n    </tr>\n    <tr>\n      <th>2</th>\n      <td>Berita populer kumparanOTO, Selasa (13/12) det...</td>\n      <td>berita populer kumparanoto selasa  detail vesp...</td>\n      <td>[berita, populer, kumparanoto, selasa, detail,...</td>\n      <td>7</td>\n      <td>positif</td>\n    </tr>\n    <tr>\n      <th>3</th>\n      <td>Mimin kasih info ya gaes, kita mau uji coba ET...</td>\n      <td>mimin kasih info ya gaes kita mau uji coba etl...</td>\n      <td>[mimin, kasih, informasi, iya, teman, uji, cob...</td>\n      <td>7</td>\n      <td>positif</td>\n    </tr>\n    <tr>\n      <th>4</th>\n      <td>personil lalu lintas polres badung melaksanaka...</td>\n      <td>personil lalu lintas polres badung melaksanaka...</td>\n      <td>[personil, lintas, polres, badung, laksana, te...</td>\n      <td>-5</td>\n      <td>negatif</td>\n    </tr>\n    <tr>\n      <th>...</th>\n      <td>...</td>\n      <td>...</td>\n      <td>...</td>\n      <td>...</td>\n      <td>...</td>\n    </tr>\n    <tr>\n      <th>7616</th>\n      <td>Jumlah dakgar lantas selama 1x24 jam yang terc...</td>\n      <td>jumlah dakgar lantas selama x jam yang tercapt...</td>\n      <td>[dakgar, lantas, x, jam, tercapture, kamera, e...</td>\n      <td>0</td>\n      <td>netral</td>\n    </tr>\n    <tr>\n      <th>7617</th>\n      <td>Pihak Kepolisian makin canggih perlengkapannya...</td>\n      <td>pihak kepolisian makin canggih perlengkapannya...</td>\n      <td>[polisi, canggih, lengkap, tindak, pelanggara,...</td>\n      <td>-8</td>\n      <td>negatif</td>\n    </tr>\n    <tr>\n      <th>7618</th>\n      <td>IPW Minta Polri Tak Ragu Terapkan Tilang Manua...</td>\n      <td>ipw minta polri tak ragu terapkan tilang manua...</td>\n      <td>[ipw, polri, ragu, terap, bukti, langgar, manu...</td>\n      <td>-6</td>\n      <td>negatif</td>\n    </tr>\n    <tr>\n      <th>7619</th>\n      <td>Sosialisasi E-TLE ( Elektronic Trafic Law Enfo...</td>\n      <td>sosialisasi etle  elektronic trafic law enforv...</td>\n      <td>[sosialisasi, etle, elektronic, trafic, law, e...</td>\n      <td>-1</td>\n      <td>negatif</td>\n    </tr>\n    <tr>\n      <th>7620</th>\n      <td>@txtdrberseragam etle etle tp msh manual ngamb...</td>\n      <td>etle etle tp msh manual ngambil fotonya emang...</td>\n      <td>[etle, etle, manual, ambil, foto, emang, tuolo...</td>\n      <td>1</td>\n      <td>positif</td>\n    </tr>\n  </tbody>\n</table>\n<p>7621 rows × 5 columns</p>\n</div>"
     },
     "execution_count": 19,
     "metadata": {},
     "output_type": "execute_result"
    }
   ],
   "source": [
    "sentiment = df_etle['tweet_preprocessed'].apply(sentiment_lexicon_indonesia)\n",
    "sentiment = list(zip(*sentiment))\n",
    "df_etle['polarity_score'] = sentiment[0]\n",
    "df_etle['polarity'] = sentiment[1]\n",
    "\n",
    "df_etle.to_csv('colab_data_clean_polarity.csv', index = False, header = True, index_label = False)\n",
    "df_etle['polarity'].info()\n",
    "df_etle"
   ],
   "metadata": {
    "collapsed": false
   }
  },
  {
   "cell_type": "code",
   "execution_count": 20,
   "outputs": [
    {
     "data": {
      "text/plain": "<Figure size 600x600 with 1 Axes>",
      "image/png": "[encoded data removed]"
     },
     "metadata": {},
     "output_type": "display_data"
    }
   ],
   "source": [
    "fig, ax = plt.subplots(figsize = (6,6))\n",
    "sizes = [row for row in df_etle['polarity'].value_counts()]\n",
    "label = list(df_etle['polarity'].value_counts().index)\n",
    "explode = (0.1, 0,0)\n",
    "ax.pie(x=sizes, labels=label, autopct = '%1.1f%%', explode=explode, textprops={'fontsize':15})\n",
    "ax.set_title('sentimen terhadap sistem tilang elektronik di twitter')\n",
    "plt.show()"
   ],
   "metadata": {
    "collapsed": false
   }
  },
  {
   "cell_type": "code",
   "execution_count": 26,
   "outputs": [
    {
     "data": {
      "text/plain": "array([[   0,    0,    0, ..., 1445,  429,  405],\n       [   0,    0,    0, ...,  137,   62,   63],\n       [   0,    0,    0, ...,    1,    2,   12],\n       ...,\n       [   0,    0,    0, ...,    1,   11,    2],\n       [   0,    0,    0, ..., 3229, 3526, 3527],\n       [   0,    0,    0, ..., 2072,  432, 1245]])"
     },
     "execution_count": 26,
     "metadata": {},
     "output_type": "execute_result"
    }
   ],
   "source": [
    "X = df_etle['tweet_preprocessed'].apply(sentence_make)\n",
    "max_feature = 5000\n",
    "\n",
    "tokenizer = Tokenizer(num_words=max_feature, split=' ')\n",
    "tokenizer.fit_on_texts(X.values)\n",
    "X = tokenizer.texts_to_sequences(X.values)\n",
    "X = pad_sequences(X)\n",
    "X"
   ],
   "metadata": {
    "collapsed": false
   }
  },
  {
   "cell_type": "code",
   "execution_count": 27,
   "outputs": [
    {
     "name": "stdout",
     "output_type": "stream",
     "text": [
      "(6096, 53) (6096,)\n",
      "(1525, 53) (1525,)\n"
     ]
    }
   ],
   "source": [
    "polarity_encode = {'negatif':0, 'netral':1, 'positif':2 }\n",
    "y = df_etle['polarity'].map(polarity_encode).values\n",
    "\n",
    "\n",
    "X_train, X_test, y_train, y_test = train_test_split(X,y, test_size=0.2, random_state = 0)\n",
    "print(X_train.shape, y_train.shape)\n",
    "print(X_test.shape, y_test.shape)"
   ],
   "metadata": {
    "collapsed": false
   }
  },
  {
   "cell_type": "code",
   "execution_count": 36,
   "outputs": [],
   "source": [
    "from keras.backend import dropout\n",
    "def create_model(embed_dim=16, hidden_unit=16, dropout_rate=0.2, optimizers=Adam, learning_rate=0.001):\n",
    "  model = Sequential()\n",
    "  model.add(Embedding(input_dim = max_feature, output_dim = embed_dim, input_lenght = X_train.shape[1]))\n",
    "  model.add(LSTM(unit = hidden_unit, activation = 'tanh'))\n",
    "  model.add(Dropout(dropout_rate))\n",
    "  model.add(Dense(units=3, activation = 'softmax' ))\n",
    "  model.compile(loss = 'sparse_categorical_crossentropy', optimizer=optimizers(lr=learning_rate), metrics = ['accuracy'])\n",
    "  print(model.summary())\n",
    "  return model"
   ],
   "metadata": {
    "collapsed": false
   }
  },
  {
   "cell_type": "code",
   "execution_count": 63,
   "outputs": [
    {
     "name": "stdout",
     "output_type": "stream",
     "text": [
      "Epoch 1/10\n",
      "48/48 [==============================] - 4s 22ms/step - loss: 0.9768 - accuracy: 0.6027 - val_loss: 0.8934 - val_accuracy: 0.6052\n",
      "Epoch 2/10\n",
      "48/48 [==============================] - 1s 14ms/step - loss: 0.8174 - accuracy: 0.6275 - val_loss: 0.7311 - val_accuracy: 0.6623\n",
      "Epoch 3/10\n",
      "48/48 [==============================] - 1s 14ms/step - loss: 0.6668 - accuracy: 0.6977 - val_loss: 0.6473 - val_accuracy: 0.7246\n",
      "Epoch 4/10\n",
      "48/48 [==============================] - 1s 14ms/step - loss: 0.5637 - accuracy: 0.7633 - val_loss: 0.5780 - val_accuracy: 0.7751\n",
      "Epoch 5/10\n",
      "48/48 [==============================] - 1s 14ms/step - loss: 0.4770 - accuracy: 0.8092 - val_loss: 0.5374 - val_accuracy: 0.7882\n",
      "Epoch 6/10\n",
      "48/48 [==============================] - 1s 13ms/step - loss: 0.4035 - accuracy: 0.8287 - val_loss: 0.4956 - val_accuracy: 0.8007\n",
      "Epoch 7/10\n",
      "48/48 [==============================] - 1s 13ms/step - loss: 0.3513 - accuracy: 0.8410 - val_loss: 0.4822 - val_accuracy: 0.8059\n",
      "Epoch 8/10\n",
      "48/48 [==============================] - 1s 13ms/step - loss: 0.3120 - accuracy: 0.8448 - val_loss: 0.4559 - val_accuracy: 0.8098\n",
      "Epoch 9/10\n",
      "48/48 [==============================] - 1s 14ms/step - loss: 0.2698 - accuracy: 0.8819 - val_loss: 0.4407 - val_accuracy: 0.8662\n",
      "Epoch 10/10\n",
      "48/48 [==============================] - 1s 13ms/step - loss: 0.2322 - accuracy: 0.9234 - val_loss: 0.4305 - val_accuracy: 0.8662\n",
      "Accuracy: 86.62295341491699 %\n"
     ]
    }
   ],
   "source": [
    "model_lstm = Sequential()\n",
    "model_lstm.add(Embedding(input_dim=5000,output_dim=16, input_length=X.shape[1]))\n",
    "model_lstm.add(LSTM(units=16, activation='tanh'))\n",
    "model_lstm.add(Dropout(0.2))\n",
    "model_lstm.add(Dense(units=3, activation=\"softmax\"))\n",
    "\n",
    "\n",
    "model_lstm.compile(loss=\"sparse_categorical_crossentropy\", optimizer=\"adam\", metrics=[\"accuracy\"])\n",
    "\n",
    "model_lstm.fit(X_train, y_train, validation_data=(X_test, y_test), epochs=10, batch_size=128)\n",
    "\n",
    "scores = model_lstm.evaluate(X_test, y_test, verbose=False)\n",
    "print(f\"Accuracy: {scores[1]*100} %\")"
   ],
   "metadata": {
    "collapsed": false
   }
  },
  {
   "cell_type": "code",
   "execution_count": 72,
   "outputs": [
    {
     "name": "stdout",
     "output_type": "stream",
     "text": [
      "Saved model to disk\n"
     ]
    }
   ],
   "source": [
    "model_json = model_lstm.to_json()\n",
    "with open(\"model_lstm_86.json\", \"w\") as json_file:\n",
    "    json_file.write(model_json)\n",
    "# serialize weights to HDF5\n",
    "model_lstm.save_weights(\"model_lstm_86.h5\")\n",
    "print(\"Saved model to disk\")"
   ],
   "metadata": {
    "collapsed": false
   }
  },
  {
   "cell_type": "code",
   "execution_count": 37,
   "outputs": [
    {
     "name": "stderr",
     "output_type": "stream",
     "text": [
      "C:\\Users\\MSI\\AppData\\Local\\Temp\\ipykernel_9096\\1475363067.py:1: DeprecationWarning: KerasClassifier is deprecated, use Sci-Keras (https://github.com/adriangb/scikeras) instead. See https://www.adriangb.com/scikeras/stable/migration.html for help migrating.\n",
      "  model_lstm = KerasClassifier(build_fn=create_model,\n"
     ]
    },
    {
     "ename": "TypeError",
     "evalue": "('Keyword argument not understood:', 'input_lenght')",
     "output_type": "error",
     "traceback": [
      "\u001B[1;31m---------------------------------------------------------------------------\u001B[0m",
      "\u001B[1;31mTypeError\u001B[0m                                 Traceback (most recent call last)",
      "Cell \u001B[1;32mIn[37], line 11\u001B[0m\n\u001B[0;32m      1\u001B[0m model_lstm \u001B[38;5;241m=\u001B[39m KerasClassifier(build_fn\u001B[38;5;241m=\u001B[39mcreate_model,\n\u001B[0;32m      2\u001B[0m                         dropout_rate \u001B[38;5;241m=\u001B[39m \u001B[38;5;241m0.2\u001B[39m,\n\u001B[0;32m      3\u001B[0m                         embed_dim \u001B[38;5;241m=\u001B[39m \u001B[38;5;241m64\u001B[39m,\n\u001B[1;32m   (...)\u001B[0m\n\u001B[0;32m      9\u001B[0m                         batch_size\u001B[38;5;241m=\u001B[39m\u001B[38;5;241m128\u001B[39m,\n\u001B[0;32m     10\u001B[0m                         validation_split\u001B[38;5;241m=\u001B[39m\u001B[38;5;241m0.1\u001B[39m)\n\u001B[1;32m---> 11\u001B[0m model_prediction \u001B[38;5;241m=\u001B[39m \u001B[43mmodel_lstm\u001B[49m\u001B[38;5;241;43m.\u001B[39;49m\u001B[43mfit\u001B[49m\u001B[43m(\u001B[49m\u001B[43mX_train\u001B[49m\u001B[43m,\u001B[49m\u001B[43m \u001B[49m\u001B[43my_train\u001B[49m\u001B[43m)\u001B[49m\n",
      "File \u001B[1;32m~\\PycharmProjects\\skripsi_bert_ngab\\venv\\lib\\site-packages\\keras\\wrappers\\scikit_learn.py:248\u001B[0m, in \u001B[0;36mKerasClassifier.fit\u001B[1;34m(self, x, y, **kwargs)\u001B[0m\n\u001B[0;32m    246\u001B[0m     \u001B[38;5;28;01mraise\u001B[39;00m \u001B[38;5;167;01mValueError\u001B[39;00m(\u001B[38;5;124m\"\u001B[39m\u001B[38;5;124mInvalid shape for y: \u001B[39m\u001B[38;5;124m\"\u001B[39m \u001B[38;5;241m+\u001B[39m \u001B[38;5;28mstr\u001B[39m(y\u001B[38;5;241m.\u001B[39mshape))\n\u001B[0;32m    247\u001B[0m \u001B[38;5;28mself\u001B[39m\u001B[38;5;241m.\u001B[39mn_classes_ \u001B[38;5;241m=\u001B[39m \u001B[38;5;28mlen\u001B[39m(\u001B[38;5;28mself\u001B[39m\u001B[38;5;241m.\u001B[39mclasses_)\n\u001B[1;32m--> 248\u001B[0m \u001B[38;5;28;01mreturn\u001B[39;00m \u001B[38;5;28msuper\u001B[39m()\u001B[38;5;241m.\u001B[39mfit(x, y, \u001B[38;5;241m*\u001B[39m\u001B[38;5;241m*\u001B[39mkwargs)\n",
      "File \u001B[1;32m~\\PycharmProjects\\skripsi_bert_ngab\\venv\\lib\\site-packages\\keras\\wrappers\\scikit_learn.py:164\u001B[0m, in \u001B[0;36mBaseWrapper.fit\u001B[1;34m(self, x, y, **kwargs)\u001B[0m\n\u001B[0;32m    160\u001B[0m     \u001B[38;5;28mself\u001B[39m\u001B[38;5;241m.\u001B[39mmodel \u001B[38;5;241m=\u001B[39m \u001B[38;5;28mself\u001B[39m\u001B[38;5;241m.\u001B[39mbuild_fn(\n\u001B[0;32m    161\u001B[0m         \u001B[38;5;241m*\u001B[39m\u001B[38;5;241m*\u001B[39m\u001B[38;5;28mself\u001B[39m\u001B[38;5;241m.\u001B[39mfilter_sk_params(\u001B[38;5;28mself\u001B[39m\u001B[38;5;241m.\u001B[39mbuild_fn\u001B[38;5;241m.\u001B[39m\u001B[38;5;21m__call__\u001B[39m)\n\u001B[0;32m    162\u001B[0m     )\n\u001B[0;32m    163\u001B[0m \u001B[38;5;28;01melse\u001B[39;00m:\n\u001B[1;32m--> 164\u001B[0m     \u001B[38;5;28mself\u001B[39m\u001B[38;5;241m.\u001B[39mmodel \u001B[38;5;241m=\u001B[39m \u001B[38;5;28mself\u001B[39m\u001B[38;5;241m.\u001B[39mbuild_fn(\u001B[38;5;241m*\u001B[39m\u001B[38;5;241m*\u001B[39m\u001B[38;5;28mself\u001B[39m\u001B[38;5;241m.\u001B[39mfilter_sk_params(\u001B[38;5;28mself\u001B[39m\u001B[38;5;241m.\u001B[39mbuild_fn))\n\u001B[0;32m    166\u001B[0m \u001B[38;5;28;01mif\u001B[39;00m (\n\u001B[0;32m    167\u001B[0m     losses\u001B[38;5;241m.\u001B[39mis_categorical_crossentropy(\u001B[38;5;28mself\u001B[39m\u001B[38;5;241m.\u001B[39mmodel\u001B[38;5;241m.\u001B[39mloss)\n\u001B[0;32m    168\u001B[0m     \u001B[38;5;129;01mand\u001B[39;00m \u001B[38;5;28mlen\u001B[39m(y\u001B[38;5;241m.\u001B[39mshape) \u001B[38;5;241m!=\u001B[39m \u001B[38;5;241m2\u001B[39m\n\u001B[0;32m    169\u001B[0m ):\n\u001B[0;32m    170\u001B[0m     y \u001B[38;5;241m=\u001B[39m to_categorical(y)\n",
      "Cell \u001B[1;32mIn[36], line 4\u001B[0m, in \u001B[0;36mcreate_model\u001B[1;34m(embed_dim, hidden_unit, dropout_rate, optimizers, learning_rate)\u001B[0m\n\u001B[0;32m      2\u001B[0m \u001B[38;5;28;01mdef\u001B[39;00m \u001B[38;5;21mcreate_model\u001B[39m(embed_dim\u001B[38;5;241m=\u001B[39m\u001B[38;5;241m16\u001B[39m, hidden_unit\u001B[38;5;241m=\u001B[39m\u001B[38;5;241m16\u001B[39m, dropout_rate\u001B[38;5;241m=\u001B[39m\u001B[38;5;241m0.2\u001B[39m, optimizers\u001B[38;5;241m=\u001B[39mAdam, learning_rate\u001B[38;5;241m=\u001B[39m\u001B[38;5;241m0.001\u001B[39m):\n\u001B[0;32m      3\u001B[0m   model \u001B[38;5;241m=\u001B[39m Sequential()\n\u001B[1;32m----> 4\u001B[0m   model\u001B[38;5;241m.\u001B[39madd(\u001B[43mEmbedding\u001B[49m\u001B[43m(\u001B[49m\u001B[43minput_dim\u001B[49m\u001B[43m \u001B[49m\u001B[38;5;241;43m=\u001B[39;49m\u001B[43m \u001B[49m\u001B[43mmax_feature\u001B[49m\u001B[43m,\u001B[49m\u001B[43m \u001B[49m\u001B[43moutput_dim\u001B[49m\u001B[43m \u001B[49m\u001B[38;5;241;43m=\u001B[39;49m\u001B[43m \u001B[49m\u001B[43membed_dim\u001B[49m\u001B[43m,\u001B[49m\u001B[43m \u001B[49m\u001B[43minput_lenght\u001B[49m\u001B[43m \u001B[49m\u001B[38;5;241;43m=\u001B[39;49m\u001B[43m \u001B[49m\u001B[43mX_train\u001B[49m\u001B[38;5;241;43m.\u001B[39;49m\u001B[43mshape\u001B[49m\u001B[43m[\u001B[49m\u001B[38;5;241;43m1\u001B[39;49m\u001B[43m]\u001B[49m\u001B[43m)\u001B[49m)\n\u001B[0;32m      5\u001B[0m   model\u001B[38;5;241m.\u001B[39madd(LSTM(unit \u001B[38;5;241m=\u001B[39m hidden_unit, activation \u001B[38;5;241m=\u001B[39m \u001B[38;5;124m'\u001B[39m\u001B[38;5;124mtanh\u001B[39m\u001B[38;5;124m'\u001B[39m))\n\u001B[0;32m      6\u001B[0m   model\u001B[38;5;241m.\u001B[39madd(Dropout(dropout_rate))\n",
      "File \u001B[1;32m~\\PycharmProjects\\skripsi_bert_ngab\\venv\\lib\\site-packages\\keras\\dtensor\\utils.py:96\u001B[0m, in \u001B[0;36mallow_initializer_layout.<locals>._wrap_function\u001B[1;34m(layer_instance, *args, **kwargs)\u001B[0m\n\u001B[0;32m     93\u001B[0m         \u001B[38;5;28;01mif\u001B[39;00m layout:\n\u001B[0;32m     94\u001B[0m             layout_args[variable_name \u001B[38;5;241m+\u001B[39m \u001B[38;5;124m\"\u001B[39m\u001B[38;5;124m_layout\u001B[39m\u001B[38;5;124m\"\u001B[39m] \u001B[38;5;241m=\u001B[39m layout\n\u001B[1;32m---> 96\u001B[0m init_method(layer_instance, \u001B[38;5;241m*\u001B[39margs, \u001B[38;5;241m*\u001B[39m\u001B[38;5;241m*\u001B[39mkwargs)\n\u001B[0;32m     98\u001B[0m \u001B[38;5;66;03m# Inject the layout parameter after the invocation of __init__()\u001B[39;00m\n\u001B[0;32m     99\u001B[0m \u001B[38;5;28;01mfor\u001B[39;00m layout_param_name, layout \u001B[38;5;129;01min\u001B[39;00m layout_args\u001B[38;5;241m.\u001B[39mitems():\n",
      "File \u001B[1;32m~\\PycharmProjects\\skripsi_bert_ngab\\venv\\lib\\site-packages\\keras\\layers\\core\\embedding.py:149\u001B[0m, in \u001B[0;36mEmbedding.__init__\u001B[1;34m(self, input_dim, output_dim, embeddings_initializer, embeddings_regularizer, activity_regularizer, embeddings_constraint, mask_zero, input_length, **kwargs)\u001B[0m\n\u001B[0;32m    144\u001B[0m \u001B[38;5;66;03m# We set autocast to False, as we do not want to cast floating- point\u001B[39;00m\n\u001B[0;32m    145\u001B[0m \u001B[38;5;66;03m# inputs to self.dtype. In call(), we cast to int32, and casting to\u001B[39;00m\n\u001B[0;32m    146\u001B[0m \u001B[38;5;66;03m# self.dtype before casting to int32 might cause the int32 values to be\u001B[39;00m\n\u001B[0;32m    147\u001B[0m \u001B[38;5;66;03m# different due to a loss of precision.\u001B[39;00m\n\u001B[0;32m    148\u001B[0m kwargs[\u001B[38;5;124m\"\u001B[39m\u001B[38;5;124mautocast\u001B[39m\u001B[38;5;124m\"\u001B[39m] \u001B[38;5;241m=\u001B[39m \u001B[38;5;28;01mFalse\u001B[39;00m\n\u001B[1;32m--> 149\u001B[0m \u001B[38;5;28msuper\u001B[39m()\u001B[38;5;241m.\u001B[39m\u001B[38;5;21m__init__\u001B[39m(\u001B[38;5;241m*\u001B[39m\u001B[38;5;241m*\u001B[39mkwargs)\n\u001B[0;32m    151\u001B[0m \u001B[38;5;28mself\u001B[39m\u001B[38;5;241m.\u001B[39minput_dim \u001B[38;5;241m=\u001B[39m input_dim\n\u001B[0;32m    152\u001B[0m \u001B[38;5;28mself\u001B[39m\u001B[38;5;241m.\u001B[39moutput_dim \u001B[38;5;241m=\u001B[39m output_dim\n",
      "File \u001B[1;32m~\\PycharmProjects\\skripsi_bert_ngab\\venv\\lib\\site-packages\\tensorflow\\python\\trackable\\base.py:205\u001B[0m, in \u001B[0;36mno_automatic_dependency_tracking.<locals>._method_wrapper\u001B[1;34m(self, *args, **kwargs)\u001B[0m\n\u001B[0;32m    203\u001B[0m \u001B[38;5;28mself\u001B[39m\u001B[38;5;241m.\u001B[39m_self_setattr_tracking \u001B[38;5;241m=\u001B[39m \u001B[38;5;28;01mFalse\u001B[39;00m  \u001B[38;5;66;03m# pylint: disable=protected-access\u001B[39;00m\n\u001B[0;32m    204\u001B[0m \u001B[38;5;28;01mtry\u001B[39;00m:\n\u001B[1;32m--> 205\u001B[0m   result \u001B[38;5;241m=\u001B[39m method(\u001B[38;5;28mself\u001B[39m, \u001B[38;5;241m*\u001B[39margs, \u001B[38;5;241m*\u001B[39m\u001B[38;5;241m*\u001B[39mkwargs)\n\u001B[0;32m    206\u001B[0m \u001B[38;5;28;01mfinally\u001B[39;00m:\n\u001B[0;32m    207\u001B[0m   \u001B[38;5;28mself\u001B[39m\u001B[38;5;241m.\u001B[39m_self_setattr_tracking \u001B[38;5;241m=\u001B[39m previous_value  \u001B[38;5;66;03m# pylint: disable=protected-access\u001B[39;00m\n",
      "File \u001B[1;32m~\\PycharmProjects\\skripsi_bert_ngab\\venv\\lib\\site-packages\\keras\\engine\\base_layer.py:340\u001B[0m, in \u001B[0;36mLayer.__init__\u001B[1;34m(self, trainable, name, dtype, dynamic, **kwargs)\u001B[0m\n\u001B[0;32m    329\u001B[0m allowed_kwargs \u001B[38;5;241m=\u001B[39m {\n\u001B[0;32m    330\u001B[0m     \u001B[38;5;124m\"\u001B[39m\u001B[38;5;124minput_dim\u001B[39m\u001B[38;5;124m\"\u001B[39m,\n\u001B[0;32m    331\u001B[0m     \u001B[38;5;124m\"\u001B[39m\u001B[38;5;124minput_shape\u001B[39m\u001B[38;5;124m\"\u001B[39m,\n\u001B[1;32m   (...)\u001B[0m\n\u001B[0;32m    337\u001B[0m     \u001B[38;5;124m\"\u001B[39m\u001B[38;5;124mimplementation\u001B[39m\u001B[38;5;124m\"\u001B[39m,\n\u001B[0;32m    338\u001B[0m }\n\u001B[0;32m    339\u001B[0m \u001B[38;5;66;03m# Validate optional keyword arguments.\u001B[39;00m\n\u001B[1;32m--> 340\u001B[0m \u001B[43mgeneric_utils\u001B[49m\u001B[38;5;241;43m.\u001B[39;49m\u001B[43mvalidate_kwargs\u001B[49m\u001B[43m(\u001B[49m\u001B[43mkwargs\u001B[49m\u001B[43m,\u001B[49m\u001B[43m \u001B[49m\u001B[43mallowed_kwargs\u001B[49m\u001B[43m)\u001B[49m\n\u001B[0;32m    342\u001B[0m \u001B[38;5;66;03m# Mutable properties\u001B[39;00m\n\u001B[0;32m    343\u001B[0m \u001B[38;5;66;03m# Indicates whether the layer's weights are updated during training\u001B[39;00m\n\u001B[0;32m    344\u001B[0m \u001B[38;5;66;03m# and whether the layer's updates are run during training.\u001B[39;00m\n\u001B[0;32m    345\u001B[0m \u001B[38;5;28;01mif\u001B[39;00m \u001B[38;5;129;01mnot\u001B[39;00m (\n\u001B[0;32m    346\u001B[0m     \u001B[38;5;28misinstance\u001B[39m(trainable, \u001B[38;5;28mbool\u001B[39m)\n\u001B[0;32m    347\u001B[0m     \u001B[38;5;129;01mor\u001B[39;00m (\n\u001B[1;32m   (...)\u001B[0m\n\u001B[0;32m    350\u001B[0m     )\n\u001B[0;32m    351\u001B[0m ):\n",
      "File \u001B[1;32m~\\PycharmProjects\\skripsi_bert_ngab\\venv\\lib\\site-packages\\keras\\utils\\generic_utils.py:515\u001B[0m, in \u001B[0;36mvalidate_kwargs\u001B[1;34m(kwargs, allowed_kwargs, error_message)\u001B[0m\n\u001B[0;32m    513\u001B[0m \u001B[38;5;28;01mfor\u001B[39;00m kwarg \u001B[38;5;129;01min\u001B[39;00m kwargs:\n\u001B[0;32m    514\u001B[0m     \u001B[38;5;28;01mif\u001B[39;00m kwarg \u001B[38;5;129;01mnot\u001B[39;00m \u001B[38;5;129;01min\u001B[39;00m allowed_kwargs:\n\u001B[1;32m--> 515\u001B[0m         \u001B[38;5;28;01mraise\u001B[39;00m \u001B[38;5;167;01mTypeError\u001B[39;00m(error_message, kwarg)\n",
      "\u001B[1;31mTypeError\u001B[0m: ('Keyword argument not understood:', 'input_lenght')"
     ]
    }
   ],
   "source": [
    "model_lstm = KerasClassifier(build_fn=create_model,\n",
    "                        dropout_rate = 0.2,\n",
    "                        embed_dim = 64,\n",
    "                        hidden_unit = 32,\n",
    "                        optimizers = Adam,\n",
    "                        learning_rate = 0.001,\n",
    "                        epochs=10,\n",
    "                        batch_size=128,\n",
    "                        validation_split=0.1)\n",
    "model_prediction = model_lstm.fit(X_train, y_train)"
   ],
   "metadata": {
    "collapsed": false
   }
  },
  {
   "cell_type": "code",
   "execution_count": 71,
   "outputs": [
    {
     "data": {
      "text/plain": "dict_keys([])"
     },
     "execution_count": 71,
     "metadata": {},
     "output_type": "execute_result"
    }
   ],
   "source": [
    "x = model_lstm.history.history.keys()\n",
    "x"
   ],
   "metadata": {
    "collapsed": false
   }
  },
  {
   "cell_type": "code",
   "execution_count": 64,
   "outputs": [
    {
     "ename": "TypeError",
     "evalue": "'History' object is not subscriptable",
     "output_type": "error",
     "traceback": [
      "\u001B[1;31m---------------------------------------------------------------------------\u001B[0m",
      "\u001B[1;31mTypeError\u001B[0m                                 Traceback (most recent call last)",
      "Cell \u001B[1;32mIn[64], line 2\u001B[0m\n\u001B[0;32m      1\u001B[0m fig, ax \u001B[38;5;241m=\u001B[39m plt\u001B[38;5;241m.\u001B[39msubplots(figsize\u001B[38;5;241m=\u001B[39m(\u001B[38;5;241m10\u001B[39m,\u001B[38;5;241m4\u001B[39m))\n\u001B[1;32m----> 2\u001B[0m ax\u001B[38;5;241m.\u001B[39mplot(\u001B[43mmodel_lstm\u001B[49m\u001B[38;5;241;43m.\u001B[39;49m\u001B[43mhistory\u001B[49m\u001B[43m[\u001B[49m\u001B[38;5;124;43m'\u001B[39;49m\u001B[38;5;124;43macc\u001B[39;49m\u001B[38;5;124;43m'\u001B[39;49m\u001B[43m]\u001B[49m, label \u001B[38;5;241m=\u001B[39m \u001B[38;5;124m'\u001B[39m\u001B[38;5;124mtrain_accuracy\u001B[39m\u001B[38;5;124m'\u001B[39m)\n\u001B[0;32m      3\u001B[0m ax\u001B[38;5;241m.\u001B[39mplot(model_lstm\u001B[38;5;241m.\u001B[39mhistory[\u001B[38;5;124m'\u001B[39m\u001B[38;5;124mval_accuracy\u001B[39m\u001B[38;5;124m'\u001B[39m], label \u001B[38;5;241m=\u001B[39m \u001B[38;5;124m'\u001B[39m\u001B[38;5;124mvalidation_accuracy\u001B[39m\u001B[38;5;124m'\u001B[39m)\n\u001B[0;32m      4\u001B[0m ax\u001B[38;5;241m.\u001B[39mset_title(\u001B[38;5;124m'\u001B[39m\u001B[38;5;124mModel accuracy\u001B[39m\u001B[38;5;124m'\u001B[39m)\n",
      "\u001B[1;31mTypeError\u001B[0m: 'History' object is not subscriptable"
     ]
    },
    {
     "data": {
      "text/plain": "<Figure size 1000x400 with 1 Axes>",
      "image/png": "[encoded data removed]"
     },
     "metadata": {},
     "output_type": "display_data"
    }
   ],
   "source": [
    "fig, ax = plt.subplots(figsize=(10,4))\n",
    "ax.plot(model_lstm.history['acc'], label = 'train_accuracy')\n",
    "ax.plot(model_lstm.history['val_accuracy'], label = 'validation_accuracy')\n",
    "ax.set_title('Model accuracy')\n",
    "ax.set_xlabel('epochs')\n",
    "ax.set_xlabel('accuracy')\n",
    "ax.legend(loc = 'upper left')\n",
    "plt.show()"
   ],
   "metadata": {
    "collapsed": false
   }
  },
  {
   "cell_type": "code",
   "execution_count": 45,
   "outputs": [
    {
     "name": "stdout",
     "output_type": "stream",
     "text": [
      "48/48 [==============================] - 0s 3ms/step\n"
     ]
    },
    {
     "data": {
      "text/plain": "array([[5.6524682e-01, 3.4025243e-01, 9.4500676e-02],\n       [9.8743105e-01, 9.9795405e-03, 2.5894290e-03],\n       [9.9955899e-01, 4.0555827e-04, 3.5361663e-05],\n       ...,\n       [2.2923430e-02, 2.5994858e-01, 7.1712798e-01],\n       [8.1217670e-01, 1.4787522e-01, 3.9948020e-02],\n       [7.4603304e-02, 4.0339792e-01, 5.2199882e-01]], dtype=float32)"
     },
     "execution_count": 45,
     "metadata": {},
     "output_type": "execute_result"
    }
   ],
   "source": [
    "y_pred = model_lstm.predict(X_test)\n",
    "y_pred"
   ],
   "metadata": {
    "collapsed": false
   }
  },
  {
   "cell_type": "code",
   "execution_count": 42,
   "outputs": [
    {
     "name": "stdout",
     "output_type": "stream",
     "text": [
      "48/48 [==============================] - 1s 3ms/step\n"
     ]
    },
    {
     "ename": "ValueError",
     "evalue": "Classification metrics can't handle a mix of multiclass and continuous-multioutput targets",
     "output_type": "error",
     "traceback": [
      "\u001B[1;31m---------------------------------------------------------------------------\u001B[0m",
      "\u001B[1;31mValueError\u001B[0m                                Traceback (most recent call last)",
      "Cell \u001B[1;32mIn[42], line 2\u001B[0m\n\u001B[0;32m      1\u001B[0m y_pred \u001B[38;5;241m=\u001B[39m model_lstm\u001B[38;5;241m.\u001B[39mpredict(X_test)\n\u001B[1;32m----> 2\u001B[0m accuracy \u001B[38;5;241m=\u001B[39m \u001B[43maccuracy_score\u001B[49m\u001B[43m(\u001B[49m\u001B[43my_test\u001B[49m\u001B[43m,\u001B[49m\u001B[43m \u001B[49m\u001B[43my_pred\u001B[49m\u001B[43m)\u001B[49m\n\u001B[0;32m      3\u001B[0m \u001B[38;5;28mprint\u001B[39m(\u001B[38;5;124m'\u001B[39m\u001B[38;5;124mModel Accuracy on test data: \u001B[39m\u001B[38;5;124m'\u001B[39m, accuracy)\n\u001B[0;32m      4\u001B[0m confusion_matrix(y_test, y_pred)\n",
      "File \u001B[1;32m~\\PycharmProjects\\skripsi_bert_ngab\\venv\\lib\\site-packages\\sklearn\\utils\\_param_validation.py:192\u001B[0m, in \u001B[0;36mvalidate_params.<locals>.decorator.<locals>.wrapper\u001B[1;34m(*args, **kwargs)\u001B[0m\n\u001B[0;32m    187\u001B[0m validate_parameter_constraints(\n\u001B[0;32m    188\u001B[0m     parameter_constraints, params, caller_name\u001B[38;5;241m=\u001B[39mfunc\u001B[38;5;241m.\u001B[39m\u001B[38;5;18m__qualname__\u001B[39m\n\u001B[0;32m    189\u001B[0m )\n\u001B[0;32m    191\u001B[0m \u001B[38;5;28;01mtry\u001B[39;00m:\n\u001B[1;32m--> 192\u001B[0m     \u001B[38;5;28;01mreturn\u001B[39;00m func(\u001B[38;5;241m*\u001B[39margs, \u001B[38;5;241m*\u001B[39m\u001B[38;5;241m*\u001B[39mkwargs)\n\u001B[0;32m    193\u001B[0m \u001B[38;5;28;01mexcept\u001B[39;00m InvalidParameterError \u001B[38;5;28;01mas\u001B[39;00m e:\n\u001B[0;32m    194\u001B[0m     \u001B[38;5;66;03m# When the function is just a wrapper around an estimator, we allow\u001B[39;00m\n\u001B[0;32m    195\u001B[0m     \u001B[38;5;66;03m# the function to delegate validation to the estimator, but we replace\u001B[39;00m\n\u001B[0;32m    196\u001B[0m     \u001B[38;5;66;03m# the name of the estimator by the name of the function in the error\u001B[39;00m\n\u001B[0;32m    197\u001B[0m     \u001B[38;5;66;03m# message to avoid confusion.\u001B[39;00m\n\u001B[0;32m    198\u001B[0m     msg \u001B[38;5;241m=\u001B[39m re\u001B[38;5;241m.\u001B[39msub(\n\u001B[0;32m    199\u001B[0m         \u001B[38;5;124mr\u001B[39m\u001B[38;5;124m\"\u001B[39m\u001B[38;5;124mparameter of \u001B[39m\u001B[38;5;124m\\\u001B[39m\u001B[38;5;124mw+ must be\u001B[39m\u001B[38;5;124m\"\u001B[39m,\n\u001B[0;32m    200\u001B[0m         \u001B[38;5;124mf\u001B[39m\u001B[38;5;124m\"\u001B[39m\u001B[38;5;124mparameter of \u001B[39m\u001B[38;5;132;01m{\u001B[39;00mfunc\u001B[38;5;241m.\u001B[39m\u001B[38;5;18m__qualname__\u001B[39m\u001B[38;5;132;01m}\u001B[39;00m\u001B[38;5;124m must be\u001B[39m\u001B[38;5;124m\"\u001B[39m,\n\u001B[0;32m    201\u001B[0m         \u001B[38;5;28mstr\u001B[39m(e),\n\u001B[0;32m    202\u001B[0m     )\n",
      "File \u001B[1;32m~\\PycharmProjects\\skripsi_bert_ngab\\venv\\lib\\site-packages\\sklearn\\metrics\\_classification.py:221\u001B[0m, in \u001B[0;36maccuracy_score\u001B[1;34m(y_true, y_pred, normalize, sample_weight)\u001B[0m\n\u001B[0;32m    155\u001B[0m \u001B[38;5;250m\u001B[39m\u001B[38;5;124;03m\"\"\"Accuracy classification score.\u001B[39;00m\n\u001B[0;32m    156\u001B[0m \n\u001B[0;32m    157\u001B[0m \u001B[38;5;124;03mIn multilabel classification, this function computes subset accuracy:\u001B[39;00m\n\u001B[1;32m   (...)\u001B[0m\n\u001B[0;32m    217\u001B[0m \u001B[38;5;124;03m0.5\u001B[39;00m\n\u001B[0;32m    218\u001B[0m \u001B[38;5;124;03m\"\"\"\u001B[39;00m\n\u001B[0;32m    220\u001B[0m \u001B[38;5;66;03m# Compute accuracy for each possible representation\u001B[39;00m\n\u001B[1;32m--> 221\u001B[0m y_type, y_true, y_pred \u001B[38;5;241m=\u001B[39m \u001B[43m_check_targets\u001B[49m\u001B[43m(\u001B[49m\u001B[43my_true\u001B[49m\u001B[43m,\u001B[49m\u001B[43m \u001B[49m\u001B[43my_pred\u001B[49m\u001B[43m)\u001B[49m\n\u001B[0;32m    222\u001B[0m check_consistent_length(y_true, y_pred, sample_weight)\n\u001B[0;32m    223\u001B[0m \u001B[38;5;28;01mif\u001B[39;00m y_type\u001B[38;5;241m.\u001B[39mstartswith(\u001B[38;5;124m\"\u001B[39m\u001B[38;5;124mmultilabel\u001B[39m\u001B[38;5;124m\"\u001B[39m):\n",
      "File \u001B[1;32m~\\PycharmProjects\\skripsi_bert_ngab\\venv\\lib\\site-packages\\sklearn\\metrics\\_classification.py:95\u001B[0m, in \u001B[0;36m_check_targets\u001B[1;34m(y_true, y_pred)\u001B[0m\n\u001B[0;32m     92\u001B[0m     y_type \u001B[38;5;241m=\u001B[39m {\u001B[38;5;124m\"\u001B[39m\u001B[38;5;124mmulticlass\u001B[39m\u001B[38;5;124m\"\u001B[39m}\n\u001B[0;32m     94\u001B[0m \u001B[38;5;28;01mif\u001B[39;00m \u001B[38;5;28mlen\u001B[39m(y_type) \u001B[38;5;241m>\u001B[39m \u001B[38;5;241m1\u001B[39m:\n\u001B[1;32m---> 95\u001B[0m     \u001B[38;5;28;01mraise\u001B[39;00m \u001B[38;5;167;01mValueError\u001B[39;00m(\n\u001B[0;32m     96\u001B[0m         \u001B[38;5;124m\"\u001B[39m\u001B[38;5;124mClassification metrics can\u001B[39m\u001B[38;5;124m'\u001B[39m\u001B[38;5;124mt handle a mix of \u001B[39m\u001B[38;5;132;01m{0}\u001B[39;00m\u001B[38;5;124m and \u001B[39m\u001B[38;5;132;01m{1}\u001B[39;00m\u001B[38;5;124m targets\u001B[39m\u001B[38;5;124m\"\u001B[39m\u001B[38;5;241m.\u001B[39mformat(\n\u001B[0;32m     97\u001B[0m             type_true, type_pred\n\u001B[0;32m     98\u001B[0m         )\n\u001B[0;32m     99\u001B[0m     )\n\u001B[0;32m    101\u001B[0m \u001B[38;5;66;03m# We can't have more than one value on y_type => The set is no more needed\u001B[39;00m\n\u001B[0;32m    102\u001B[0m y_type \u001B[38;5;241m=\u001B[39m y_type\u001B[38;5;241m.\u001B[39mpop()\n",
      "\u001B[1;31mValueError\u001B[0m: Classification metrics can't handle a mix of multiclass and continuous-multioutput targets"
     ]
    }
   ],
   "source": [
    "y_pred = model_lstm.predict(X_test)\n",
    "accuracy = accuracy_score(y_test, y_pred)\n",
    "print('Model Accuracy on test data: ', accuracy)\n",
    "confusion_matrix(y_test, y_pred)\n",
    "\n",
    "fig, ax = plt.subplots(figsize = (8,6))\n",
    "sns.heatmap(confusion_matrix(y_true = y_test, y_pred = y_pred), fmt = 'b', annot=True)\n",
    "ax.xaxis.set_label_position('top')\n",
    "ax.xaxis.set_ticks_position('top')\n",
    "ax.set_xlabel('Prediction', fontsize = 13)\n",
    "ax.set_xticklabels(['negatif (0)', 'netral (1)', 'positif (2)'])\n",
    "ax.set_ylabel('Actual', fontsize=13)\n",
    "ax.set_yticklabels(['negatif (0)', 'netral (1)', 'positif (2)'])\n",
    "plt.show()"
   ],
   "metadata": {
    "collapsed": false
   }
  },
  {
   "cell_type": "code",
   "execution_count": null,
   "outputs": [],
   "source": [],
   "metadata": {
    "collapsed": false
   }
  }
 ],
 "metadata": {
  "kernelspec": {
   "display_name": "Python 3",
   "language": "python",
   "name": "python3"
  },
  "language_info": {
   "codemirror_mode": {
    "name": "ipython",
    "version": 2
   },
   "file_extension": ".py",
   "mimetype": "text/x-python",
   "name": "python",
   "nbconvert_exporter": "python",
   "pygments_lexer": "ipython2",
   "version": "2.7.6"
  }
 },
 "nbformat": 4,
 "nbformat_minor": 0
}
