{
 "cells": [
  {
   "cell_type": "code",
   "execution_count": 103,
   "outputs": [
    {
     "name": "stderr",
     "output_type": "stream",
     "text": [
      "[nltk_data] Downloading package stopwords to\n",
      "[nltk_data]     C:\\Users\\anand\\AppData\\Roaming\\nltk_data...\n",
      "[nltk_data]   Package stopwords is already up-to-date!\n",
      "[nltk_data] Downloading package punkt to\n",
      "[nltk_data]     C:\\Users\\anand\\AppData\\Roaming\\nltk_data...\n",
      "[nltk_data]   Package punkt is already up-to-date!\n"
     ]
    },
    {
     "data": {
      "text/plain": "True"
     },
     "execution_count": 103,
     "metadata": {},
     "output_type": "execute_result"
    }
   ],
   "source": [
    "import pandas as pd\n",
    "import emoji\n",
    "import re\n",
    "from textblob import TextBlob\n",
    "from Sastrawi.Stemmer.StemmerFactory import StemmerFactory\n",
    "from Sastrawi.StopWordRemover.StopWordRemoverFactory import StopWordRemoverFactory\n",
    "import textblob.exceptions\n",
    "import nltk\n",
    "from nltk.corpus import stopwords\n",
    "from nltk.tokenize import word_tokenize\n",
    "from nltk.stem import PorterStemmer\n",
    "from deep_translator import GoogleTranslator\n",
    "from vaderSentiment.vaderSentiment import SentimentIntensityAnalyzer\n",
    "nltk.download('stopwords')\n",
    "nltk.download('punkt')"
   ],
   "metadata": {
    "collapsed": false,
    "pycharm": {
     "name": "#%%\n"
    }
   }
  },
  {
   "cell_type": "code",
   "execution_count": 110,
   "outputs": [],
   "source": [
    "def remove_enter(val):\n",
    "    \"\"\"menghilangkan \\n atau enter\"\"\"\n",
    "    return ' '.join(val.split())\n",
    "\n",
    "def remove_emoji():\n",
    "    \"\"\"menghilangkan emoji\"\"\"\n",
    "    emojis = sorted(emoji.EMOJI_DATA, key=len, reverse=True)\n",
    "    pattern = u'(' + u'|'.join(re.escape(u) for u in emojis) + u')'\n",
    "    return re.compile(pattern)\n",
    "\n",
    "begone_emoji = remove_emoji()\n",
    "\n",
    "def preprocessing_data(val):\n",
    "    \"\"\"\n",
    "    lower huruf, menghilangkan hyperlink, unicode, RT, menghilangkan titik koma ganda,\n",
    "    menghilangkan enter dan emoji.\n",
    "    \"\"\"\n",
    "    result = val.lower().strip()\n",
    "    result = re.sub(r'(@|https?)\\S+|#[A-Za-z0-9_]+', '', result).replace(\"&amp;\", \"dan\")\n",
    "    result = re.sub(r'RT[\\s]+','',result)\n",
    "    result = re.sub('[^.,a-zA-Z0-9 \\n\\.]', '', result)\n",
    "    # result = re.sub(r'\\d', '', result)\n",
    "    # result = re.sub(r'[^\\w\\s]', ' ', result)\n",
    "    result = re.sub(r'\\.+', \" . \", result)\n",
    "    result = re.sub(r'\\,+', \" , \", result)\n",
    "    result = remove_enter(result)\n",
    "    result = begone_emoji.sub(repl='', string=result)\n",
    "    return result\n",
    "\n",
    "def final_remove(val):\n",
    "    \"\"\"\n",
    "   fungsi ini digunakan untuk melakukan preprocessing akhir yaitu menghilangkan titk, koma dan karakter selain alfabet.\n",
    "   setelah bersih akan dilakukan remove stopword dan stemming\n",
    "    \"\"\"\n",
    "    result = re.sub(r'\\.+', \" . \", val)\n",
    "    result = re.sub(r'\\,+', \" , \", result)\n",
    "    result = re.sub(r'[^\\w\\s]', ' ', result)\n",
    "    result = remove_stopword(result)\n",
    "    result = stemming(result)\n",
    "    return result\n",
    "\n",
    "factory = StopWordRemoverFactory()\n",
    "stopwords_id = factory.get_stop_words()\n",
    "stopword_id = factory.create_stop_word_remover()\n",
    "stemmer = StemmerFactory().create_stemmer()\n",
    "def remove_stopword(val):\n",
    "    \"\"\"menghilangkan stopword\"\"\"\n",
    "    removed = stopword_id.remove(val)\n",
    "    return removed\n",
    "\n",
    "def stemming(val):\n",
    "    \"\"\"mengubah sebuah kata menjadi kata dasar\"\"\"\n",
    "    hasil = stemmer.stem(val)\n",
    "    return hasil\n",
    "\n",
    "def polarity_decider(val):\n",
    "    \"\"\"melihat polaritas menggunakan TextBlob\"\"\"\n",
    "    analize = TextBlob(val)\n",
    "    processed = analize.translate(from_lang='id', to='en')\n",
    "    if processed.polarity > 0:\n",
    "        sentimen = 1\n",
    "    elif processed.polarity < 0:\n",
    "        sentimen = -1\n",
    "    else:\n",
    "        sentimen = 0\n",
    "    return sentimen, str(processed).lower()\n",
    "\n",
    "eng_stemmer = PorterStemmer()\n",
    "def eng_final_remove(val):\n",
    "    \"\"\"melakukan preprocessing akhir pada teks english yaitu menghilangkan karakter non alfabet,\n",
    "    remove stopword, dan stemming\"\"\"\n",
    "    remove_non_char = re.sub(r'[^\\w\\s]', ' ', val.lower())\n",
    "    stopwords_english = stopwords.words('english')\n",
    "    tokens = word_tokenize(remove_non_char)\n",
    "    remove_sw = [word for word in tokens if not word in stopwords_english]\n",
    "    stemming_en = [eng_stemmer.stem(word) for word in remove_sw]\n",
    "    return  ' '.join(stemming_en)\n",
    "\n",
    "def translate(value, src = 'id', target = 'en'):\n",
    "    \"\"\" menerjemahkan bahasa indonesia ke inggris secara default\"\"\"\n",
    "    result = GoogleTranslator(source=src, target=target).translate(value)\n",
    "    return result\n",
    "\n",
    "def vader_sentiment(sentence):\n",
    "    sid_obj = SentimentIntensityAnalyzer()\n",
    "    sentiment_dict = sid_obj.polarity_scores(sentence)\n",
    "    if sentiment_dict['compound'] >= 0.05 :\n",
    "        value = 1\n",
    "    elif sentiment_dict['compound'] <= - 0.05 :\n",
    "        value = -1\n",
    "    else :\n",
    "        value = 0\n",
    "    return value"
   ],
   "metadata": {
    "collapsed": false,
    "pycharm": {
     "name": "#%%\n"
    }
   }
  },
  {
   "cell_type": "code",
   "execution_count": 32,
   "outputs": [
    {
     "data": {
      "text/plain": "'kembangkan etle , polda dapat penghargaan di rakernis fungsi gakkum'"
     },
     "execution_count": 32,
     "metadata": {},
     "output_type": "execute_result"
    }
   ],
   "source": [
    "test = preprocessing_data(\"kembangkan etle, 7 polda dapat penghargaan di rakernis fungsi gakkum\")\n",
    "test"
   ],
   "metadata": {
    "collapsed": false,
    "pycharm": {
     "name": "#%%\n"
    }
   }
  },
  {
   "cell_type": "code",
   "execution_count": null,
   "outputs": [],
   "source": [
    "from langdetect import detect\n",
    "text = df[0][0]\n",
    "cleaned = preprocessing_data(text)\n",
    "test = detect(cleaned)\n",
    "print(test)\n",
    "print(cleaned)\n"
   ],
   "metadata": {
    "collapsed": false,
    "pycharm": {
     "name": "#%%\n"
    }
   }
  },
  {
   "cell_type": "code",
   "execution_count": 36,
   "outputs": [
    {
     "data": {
      "text/plain": "19"
     },
     "execution_count": 36,
     "metadata": {},
     "output_type": "execute_result"
    }
   ],
   "source": [
    "import csv\n",
    "with open('data oktober-des 2022 etilang tanpa lang dan etle.csv', encoding='utf-8') as csv_data:\n",
    "    load_data = list(csv.reader(csv_data, delimiter=';'))\n",
    "    dictionary = {}\n",
    "    list_of_dictionary = []\n",
    "\n",
    "    for item in load_data[1:20]:\n",
    "        # print(item[0])\n",
    "        # break\n",
    "        try:\n",
    "            translate_en = translate(preprocessing_data(item[0]))\n",
    "            sentiment, translated = polarity_decider(preprocessing_data(item[0]))\n",
    "            dictionary = {\n",
    "                'origin_text' : item[0],\n",
    "                'text_id': final_remove(preprocessing_data(item[0])),\n",
    "                'origin_text_en': translate_en,\n",
    "                # 'text_en': eng_final_remove(preprocessing_data(translated)),\n",
    "                'text_en': eng_final_remove(translate_en),\n",
    "                'label' : vader_sentiment(translate_en)\n",
    "            }\n",
    "            list_of_dictionary.append(dictionary)\n",
    "        except textblob.exceptions.NotTranslated:\n",
    "            pass\n",
    "len(list_of_dictionary)\n",
    "\n"
   ],
   "metadata": {
    "collapsed": false,
    "pycharm": {
     "name": "#%%\n"
    }
   }
  },
  {
   "cell_type": "code",
   "execution_count": 37,
   "outputs": [
    {
     "data": {
      "text/plain": "[{'origin_text': 'Kembangkan ETLE, 7 Polda Dapat Penghargaan di Rakernis Fungsi Gakkum https://t.co/FmqJ5SAFLE',\n  'text_id': 'kembang etle polda harga rakernis fungsi gakkum',\n  'origin_text_en': 'develop ethle, polda can be awarded at the rakernis function gakkum',\n  'text_en': 'develop ethl , polda award rakerni function gakkum',\n  'label': 0},\n {'origin_text': 'Sosialisasi etle dan app smart city\\n\\n#polsekrambangtengah https://t.co/d8BUmEZZJ5',\n  'text_id': 'sosialisasi etle app smart city',\n  'origin_text_en': 'etle socialization and app smart city',\n  'text_en': 'etl social app smart citi',\n  'label': 1},\n {'origin_text': 'Berita populer kumparanOTO, Selasa (13/12) detail Vespa Batik seharga Rp 77 juta, cara kerja dan jenis pelanggaran tilang ETLE mobile. #kumparanOTO https://t.co/YtXCinS9NK',\n  'text_id': 'berita populer kumparanoto selasa detail vespa batik harga rp juta cara kerja jenis langgar tilang etle mobile',\n  'origin_text_en': 'popular news kumparanoto, tuesday vespa batik details for rp',\n  'text_en': 'popular news kumparanoto , tuesday vespa batik detail rp',\n  'label': 1},\n {'origin_text': 'Mimin kasih info ya gaes, kita mau uji coba ETLE di wilayah Tangerang Kota nih..\\n\\nYukss patuhi peraturan Lalu Lintas, biar ngga dapet surat cinta dari mimin 🤭 https://t.co/rV1oW4Z3Xo',\n  'text_id': 'mimin kasih info gaes mau uji coba etle wilayah tangerang kota nih yukss patuh atur lalu lintas biar ngga dapet surat cinta mimin',\n  'origin_text_en': \"mimin give me info, we want to test etle in the tangerang city area. yukss obey traffic rules, so you don't get a love letter from mimin\",\n  'text_en': 'mimin give info , want test etl tangerang citi area . yukss obey traffic rule , dont get love letter mimin',\n  'label': 1},\n {'origin_text': 'personil lalu lintas polres badung melaksanakan teguran secara humanis kepada masyarakat yang tidak mempergunakan helm..\\n.\\n#polri\\n#poskopresisi\\n#polresbadung\\n#satlantaspolresbadung\\n#tilangelektronik\\n#etle\\n#teguranhumanis https://t.co/L0jxsZFPmn',\n  'text_id': 'personil lalu lintas polres badung laksana tegur humanis masyarakat tidak guna helm',\n  'origin_text_en': 'badung police traffic personnel carry out humanist reprimands on people who do not use helmets. .',\n  'text_en': 'badung polic traffic personnel carri humanist reprimand peopl use helmet . .',\n  'label': 0},\n {'origin_text': 'Komisioner Kompolnas Sambut Baik dan Apresiasi Kebijakan Kapolri Terkait ETLE https://t.co/4lZhDT27fK',\n  'text_id': 'komisioner kompolnas sambut baik apresiasi bijak kapolri kait etle',\n  'origin_text_en': 'commissioner kompolnas welcomes and appreciate the policy of the national police chief regarding etle',\n  'text_en': 'commission kompolna welcom appreci polici nation polic chief regard etl',\n  'label': 0},\n {'origin_text': 'Jumlah dakgar lantas selama 1x24 jam yang tercapture kamera Etle https://t.co/hbCBOjH6wR',\n  'text_id': 'jumlah dakgar lantas lama x jam tercapture kamera etle',\n  'origin_text_en': 'the amount of dakgar then during the x hour is captured by the etle camera',\n  'text_en': 'amount dakgar x hour captur etl camera',\n  'label': 0},\n {'origin_text': 'Polda Metro Jaya Akan Deteksi Pengendara Tak Miliki SIM Lewat\\xa0ETLE https://t.co/gkglkRKUJG',\n  'text_id': 'polda metro jaya deteksi kendara tak milik sim lewatetle',\n  'origin_text_en': 'polda metro jaya will detect drivers who do not have a sim viaetle',\n  'text_en': 'polda metro jaya detect driver sim viaetl',\n  'label': 0},\n {'origin_text': '@siapkawalpolri Menurut saya e-tilang ini menjadi trobosan baru yang harus segera diterapkan. Selain itu e-tilang ini juga sangat efektif untuk menertibkan para pengendara motor dan mobil tanpa harus ada tindakan ambil kunci dijalanan. Semoga bisa menjadi solusi ya pak @ListyoSigitP.👍',\n  'text_id': 'saya etilang jadi trobosan baru harus segera terap itu etilang juga sangat efektif tertib kendara motor mobil harus tindak ambil kunci jalan moga jadi solusi pak',\n  'origin_text_en': 'in my opinion, this ethilang is a new breakthrough that must be immediately applied. in addition, this ethilang is also very effective to bring order to motorcyclists and cars without having to take action on the streets. hopefully it can be a solution, sir',\n  'text_en': 'opinion , ethilang new breakthrough must immedi appli . addit , ethilang also effect bring order motorcyclist car without take action street . hope solut , sir',\n  'label': 1},\n {'origin_text': '#ColtliqEkajaya #Otomotif Jenis Pelanggaran yang Bakal Kena Tilang\\xa0Elektronik https://t.co/nuAC1tyQ3o',\n  'text_id': 'jenis langgar bakal kena tilangelektronik',\n  'origin_text_en': 'types of violations that will be subject to telepectronics',\n  'text_en': 'type violat subject telepectron',\n  'label': -1},\n {'origin_text': 'Sangat positif di era e-tilang',\n  'text_id': 'sangat positif era etilang',\n  'origin_text_en': 'very positive in the era of ethilang',\n  'text_en': 'posit era ethilang',\n  'label': 1},\n {'origin_text': 'APEL PAGI POLRESTA SERANG KOTA\\n\\nWAKA SATLANTAS POLRESTA SERANG KOTA IPTU ADE KOMARUDIN S.H PIMPIN PELAKSANAAN APEL PAGI BERIKAN INFORMASI TERKAIT ADANYA TILANG ELEKTRONIK WILAYAH KOTA SERANG,PADA KAMIS 15 DESEMBER 2022.\\n\\n#polripresisi\\n#polrestaserangkota\\n#humaspolrestaserangkota https://t.co/F6KfbyyMW1',\n  'text_id': 'apel pagi polresta serang kota waka satlantas polresta serang kota iptu ade komarudin s h pimpin laksana apel pagi ikan informasi kait ada tilang elektronik wilayah kota serang kamis desember',\n  'origin_text_en': 'apple morning polresta serang city waka satlantas polresta serang city iptu ade komarudin s. h lead the implementation of the morning apple provides information related to the existence of electronic tickets in the serang city area, on thursday december.',\n  'text_en': 'appl morn polresta serang citi waka satlanta polresta serang citi iptu ade komarudin . h lead implement morn appl provid inform relat exist electron ticket serang citi area , thursday decemb .',\n  'label': 0},\n {'origin_text': 'DPP LIPPI Dukung Pemberlakuan Tilang Elektronik Atau Etle Bagi\\xa0Pengendara https://t.co/GzWxdbPow1',\n  'text_id': 'dpp lippi dukung laku tilang elektronik etle bagipengendara',\n  'origin_text_en': 'dpp lippi supports the enactment of electronic or etle tickets for the driver',\n  'text_en': 'dpp lippi support enact electron etl ticket driver',\n  'label': 0},\n {'origin_text': 'Polda Metro Jaya Sebut ETLE Mobile Tilang 250 Pelanggar Tiap Hari https://t.co/jhuZXm9PZK',\n  'text_id': 'polda metro jaya sebut etle mobile tilang langgar tiap hari',\n  'origin_text_en': 'polda metro jaya calls ethle mobile ticket of violators every day',\n  'text_en': 'polda metro jaya call ethl mobil ticket violat everi day',\n  'label': 0},\n {'origin_text': 'Data gar lantqs yang tercapture kamera Etle Mobile Handheld https://t.co/lwmVye8LAX',\n  'text_id': 'data gar lantqs tercapture kamera etle mobile handheld',\n  'origin_text_en': 'data gar lampqs which is captured by etle mobile handheld cameras',\n  'text_en': 'data gar lampq captur etl mobil handheld camera',\n  'label': 0},\n {'origin_text': 'Warga Probolinggo Copot Pelat Hindari ETLE, Polri Akan Pakai Face Recognition https://t.co/V5gJp4laXJ',\n  'text_id': 'warga probolinggo copot pelat hindar etle polri pakai face recognition',\n  'origin_text_en': 'residents of probolinggo copot plates avoid etle, polri will use face recognition',\n  'text_en': 'resid probolinggo copot plate avoid etl , polri use face recognit',\n  'label': 0},\n {'origin_text': 'Sosialisasi ETLE dan aplikasi smart city Banyuasin dolor Kito, bersama dengan camat se Banyuasin\\n#PolriPresisi \\n#poldasumsel \\n#kapoldasumsel \\n#polresbanyuasin \\n#PolresBanyuasinPRIMA \\n#kapolresbanyuasin \\n#polsekmuarapadang https://t.co/XzWhccGjn8',\n  'text_id': 'sosialisasi etle aplikasi smart city banyuasin dolor kito sama camat se banyuasin',\n  'origin_text_en': 'etle socialization and smart city application banyuasin dolor kito, along with camat sebat banyuasin',\n  'text_en': 'etl social smart citi applic banyuasin dolor kito , along camat sebat banyuasin',\n  'label': 1},\n {'origin_text': 'Tahap Sosialisasi, 3 Tiang Kamera ETLE Dibangun di Sepanjang Jalur Utama Denpasar-Gilimanuk https://t.co/J1P5XKUpGq',\n  'text_id': 'tahap sosialisasi tiang kamera etle bangun panjang jalur utama denpasargilimanuk',\n  'origin_text_en': 'the socialization stage, the etle camera pole was built along the main route of denpasargilimanuk',\n  'text_en': 'social stage , etl camera pole built along main rout denpasargilimanuk',\n  'label': 1},\n {'origin_text': 'Polda Metro Jaya: 100 Ribu Lebih Pengendara Kena Tilang ETLE Januari-Oktober https://t.co/beZZuGvefN #TempoMetro',\n  'text_id': 'polda metro jaya ribu lebih kendara kena tilang etle januarioktober',\n  'origin_text_en': 'polda metro jaya thousand more drivers were hit by a ticket etle januaryoktober',\n  'text_en': 'polda metro jaya thousand driver hit ticket etl januaryoktob',\n  'label': 1}]"
     },
     "execution_count": 37,
     "metadata": {},
     "output_type": "execute_result"
    }
   ],
   "source": [
    "list_of_dictionary"
   ],
   "metadata": {
    "collapsed": false,
    "pycharm": {
     "name": "#%%\n"
    }
   }
  },
  {
   "cell_type": "code",
   "execution_count": null,
   "outputs": [],
   "source": [
    "df_clean = pd.DataFrame(list_of_dictionary)\n",
    "df_clean.head()"
   ],
   "metadata": {
    "collapsed": false,
    "pycharm": {
     "name": "#%%\n"
    }
   }
  },
  {
   "cell_type": "code",
   "execution_count": null,
   "outputs": [],
   "source": [
    "df_clean.to_csv('clear_dataset_stemming_stopword.csv', index=False, sep=';')"
   ],
   "metadata": {
    "collapsed": false,
    "pycharm": {
     "name": "#%%\n"
    }
   }
  },
  {
   "cell_type": "code",
   "execution_count": null,
   "outputs": [],
   "source": [
    "fields_names = ['text_id', 'text_en','label']\n",
    "with open('clear_dataset_3.csv', 'w', encoding='utf-8') as csvfile:\n",
    "    write = csv.DictWriter(csvfile, fieldnames= fields_names)\n",
    "    write.writeheader()\n",
    "    write.writerows(list_of_dictionary)"
   ],
   "metadata": {
    "collapsed": false,
    "pycharm": {
     "name": "#%%\n"
    }
   }
  },
  {
   "cell_type": "code",
   "execution_count": null,
   "outputs": [],
   "source": [
    "df_dataset_1 = pd.read_csv('clear_dataset.csv')\n",
    "# df_dataset_2 = pd.read_csv('clear_dataset_2.csv')\n",
    "# df_dataset_3 = pd.read_csv('clear_dataset_3_fix.csv')\n",
    "df_dataset_1.head()"
   ],
   "metadata": {
    "collapsed": false,
    "pycharm": {
     "name": "#%%\n"
    }
   }
  },
  {
   "cell_type": "code",
   "execution_count": 30,
   "outputs": [
    {
     "data": {
      "text/plain": "'fli mean bird roamer fox pack'"
     },
     "execution_count": 30,
     "metadata": {},
     "output_type": "execute_result"
    }
   ],
   "source": [
    "text = \"just because i can flying does not mean i am a birds roamer fox packing\"\n",
    "testis = eng_final_remove(text)\n",
    "testis"
   ],
   "metadata": {
    "collapsed": false,
    "pycharm": {
     "name": "#%%\n"
    }
   }
  }
 ],
 "metadata": {
  "kernelspec": {
   "display_name": "Python 3",
   "language": "python",
   "name": "python3"
  },
  "language_info": {
   "codemirror_mode": {
    "name": "ipython",
    "version": 2
   },
   "file_extension": ".py",
   "mimetype": "text/x-python",
   "name": "python",
   "nbconvert_exporter": "python",
   "pygments_lexer": "ipython2",
   "version": "2.7.6"
  }
 },
 "nbformat": 4,
 "nbformat_minor": 0
}